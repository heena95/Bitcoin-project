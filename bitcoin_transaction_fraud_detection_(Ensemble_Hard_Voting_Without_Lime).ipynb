{
  "cells": [
    {
      "cell_type": "markdown",
      "id": "QP__-wXNiZls",
      "metadata": {
        "id": "QP__-wXNiZls"
      },
      "source": [
        "# Predictive analysis- Machine learning model ( ADASYN for Data Balancing + Ensemble Hard Voting)"
      ]
    },
    {
      "cell_type": "markdown",
      "id": "dace1d5c",
      "metadata": {
        "id": "dace1d5c"
      },
      "source": [
        "# Importing Libraries"
      ]
    },
    {
      "cell_type": "code",
      "execution_count": null,
      "id": "8ICwJamkSmQ8",
      "metadata": {
        "colab": {
          "base_uri": "https://localhost:8080/"
        },
        "id": "8ICwJamkSmQ8",
        "outputId": "69764ad2-f8f2-4571-cb1e-fb0a8e79e761"
      },
      "outputs": [
        {
          "name": "stdout",
          "output_type": "stream",
          "text": [
            "Collecting lime\n",
            "  Downloading lime-0.2.0.1.tar.gz (275 kB)\n",
            "\u001b[?25l     \u001b[90m━━━━━━━━━━━━━━━━━━━━━━━━━━━━━━━━━━━━━━━━\u001b[0m \u001b[32m0.0/275.7 kB\u001b[0m \u001b[31m?\u001b[0m eta \u001b[36m-:--:--\u001b[0m\r\u001b[2K     \u001b[90m━━━━━━━━━━━━━━━━━━━━━━━━━━━━━━━━━━━━━━━━\u001b[0m \u001b[32m275.7/275.7 kB\u001b[0m \u001b[31m8.7 MB/s\u001b[0m eta \u001b[36m0:00:00\u001b[0m\n",
            "\u001b[?25h  Preparing metadata (setup.py) ... \u001b[?25l\u001b[?25hdone\n",
            "Requirement already satisfied: matplotlib in /usr/local/lib/python3.10/dist-packages (from lime) (3.7.1)\n",
            "Requirement already satisfied: numpy in /usr/local/lib/python3.10/dist-packages (from lime) (1.26.4)\n",
            "Requirement already satisfied: scipy in /usr/local/lib/python3.10/dist-packages (from lime) (1.13.1)\n",
            "Requirement already satisfied: tqdm in /usr/local/lib/python3.10/dist-packages (from lime) (4.66.5)\n",
            "Requirement already satisfied: scikit-learn>=0.18 in /usr/local/lib/python3.10/dist-packages (from lime) (1.3.2)\n",
            "Requirement already satisfied: scikit-image>=0.12 in /usr/local/lib/python3.10/dist-packages (from lime) (0.23.2)\n",
            "Requirement already satisfied: networkx>=2.8 in /usr/local/lib/python3.10/dist-packages (from scikit-image>=0.12->lime) (3.3)\n",
            "Requirement already satisfied: pillow>=9.1 in /usr/local/lib/python3.10/dist-packages (from scikit-image>=0.12->lime) (9.4.0)\n",
            "Requirement already satisfied: imageio>=2.33 in /usr/local/lib/python3.10/dist-packages (from scikit-image>=0.12->lime) (2.34.2)\n",
            "Requirement already satisfied: tifffile>=2022.8.12 in /usr/local/lib/python3.10/dist-packages (from scikit-image>=0.12->lime) (2024.7.24)\n",
            "Requirement already satisfied: packaging>=21 in /usr/local/lib/python3.10/dist-packages (from scikit-image>=0.12->lime) (24.1)\n",
            "Requirement already satisfied: lazy-loader>=0.4 in /usr/local/lib/python3.10/dist-packages (from scikit-image>=0.12->lime) (0.4)\n",
            "Requirement already satisfied: joblib>=1.1.1 in /usr/local/lib/python3.10/dist-packages (from scikit-learn>=0.18->lime) (1.4.2)\n",
            "Requirement already satisfied: threadpoolctl>=2.0.0 in /usr/local/lib/python3.10/dist-packages (from scikit-learn>=0.18->lime) (3.5.0)\n",
            "Requirement already satisfied: contourpy>=1.0.1 in /usr/local/lib/python3.10/dist-packages (from matplotlib->lime) (1.2.1)\n",
            "Requirement already satisfied: cycler>=0.10 in /usr/local/lib/python3.10/dist-packages (from matplotlib->lime) (0.12.1)\n",
            "Requirement already satisfied: fonttools>=4.22.0 in /usr/local/lib/python3.10/dist-packages (from matplotlib->lime) (4.53.1)\n",
            "Requirement already satisfied: kiwisolver>=1.0.1 in /usr/local/lib/python3.10/dist-packages (from matplotlib->lime) (1.4.5)\n",
            "Requirement already satisfied: pyparsing>=2.3.1 in /usr/local/lib/python3.10/dist-packages (from matplotlib->lime) (3.1.2)\n",
            "Requirement already satisfied: python-dateutil>=2.7 in /usr/local/lib/python3.10/dist-packages (from matplotlib->lime) (2.8.2)\n",
            "Requirement already satisfied: six>=1.5 in /usr/local/lib/python3.10/dist-packages (from python-dateutil>=2.7->matplotlib->lime) (1.16.0)\n",
            "Building wheels for collected packages: lime\n",
            "  Building wheel for lime (setup.py) ... \u001b[?25l\u001b[?25hdone\n",
            "  Created wheel for lime: filename=lime-0.2.0.1-py3-none-any.whl size=283834 sha256=90dd529f003da37de100b37462a4991f4ae60fcaf31e558edc4fd39f62aeb4bb\n",
            "  Stored in directory: /root/.cache/pip/wheels/fd/a2/af/9ac0a1a85a27f314a06b39e1f492bee1547d52549a4606ed89\n",
            "Successfully built lime\n",
            "Installing collected packages: lime\n",
            "Successfully installed lime-0.2.0.1\n"
          ]
        }
      ],
      "source": [
        "#TODO\n",
        "!pip install lime"
      ]
    },
    {
      "cell_type": "code",
      "execution_count": null,
      "id": "bdc61355",
      "metadata": {
        "id": "bdc61355"
      },
      "outputs": [],
      "source": [
        "# Bitcoin Heist Data Analysis with ADASYN, and LIME\n",
        "\n",
        "import pandas as pd\n",
        "import numpy as np\n",
        "import seaborn as sns\n",
        "import matplotlib.pyplot as plt\n",
        "from sklearn.preprocessing import StandardScaler\n",
        "from sklearn.model_selection import train_test_split, RandomizedSearchCV\n",
        "from scipy.stats import uniform, randint\n",
        "from xgboost import XGBClassifier\n",
        "from sklearn.metrics import accuracy_score, precision_score, recall_score, f1_score\n",
        "from imblearn.over_sampling import ADASYN\n",
        "from sklearn.linear_model import LogisticRegression\n",
        "from sklearn.naive_bayes import GaussianNB\n",
        "from sklearn.svm import SVC\n",
        "from sklearn.ensemble import VotingClassifier, RandomForestClassifier\n",
        "from lime import lime_tabular"
      ]
    },
    {
      "cell_type": "markdown",
      "id": "8c9160a9",
      "metadata": {
        "id": "8c9160a9"
      },
      "source": [
        "# Exploratory Data Analysis"
      ]
    },
    {
      "cell_type": "markdown",
      "id": "Lj8HSak0hvDw",
      "metadata": {
        "id": "Lj8HSak0hvDw"
      },
      "source": [
        "## Dataset loading"
      ]
    },
    {
      "cell_type": "code",
      "execution_count": null,
      "id": "142fc8c6",
      "metadata": {
        "id": "142fc8c6"
      },
      "outputs": [],
      "source": [
        "df=pd.read_csv(\"BitcoinHeistData.csv\")"
      ]
    },
    {
      "cell_type": "code",
      "execution_count": null,
      "id": "8376d9ca",
      "metadata": {
        "id": "8376d9ca"
      },
      "outputs": [],
      "source": [
        "df.shape"
      ]
    },
    {
      "cell_type": "code",
      "execution_count": null,
      "id": "3254ec22",
      "metadata": {
        "id": "3254ec22"
      },
      "outputs": [],
      "source": [
        "df.head()"
      ]
    },
    {
      "cell_type": "code",
      "execution_count": null,
      "id": "e36fad2c",
      "metadata": {
        "id": "e36fad2c"
      },
      "outputs": [],
      "source": [
        "df.describe()"
      ]
    },
    {
      "cell_type": "code",
      "execution_count": null,
      "id": "bea91cc4",
      "metadata": {
        "colab": {
          "background_save": true
        },
        "id": "bea91cc4",
        "outputId": "9f936544-3d08-40fd-a078-d981336c917b"
      },
      "outputs": [
        {
          "data": {
            "text/html": [
              "<div>\n",
              "<style scoped>\n",
              "    .dataframe tbody tr th:only-of-type {\n",
              "        vertical-align: middle;\n",
              "    }\n",
              "\n",
              "    .dataframe tbody tr th {\n",
              "        vertical-align: top;\n",
              "    }\n",
              "\n",
              "    .dataframe thead th {\n",
              "        text-align: right;\n",
              "    }\n",
              "</style>\n",
              "<table border=\"1\" class=\"dataframe\">\n",
              "  <thead>\n",
              "    <tr style=\"text-align: right;\">\n",
              "      <th></th>\n",
              "      <th>count</th>\n",
              "    </tr>\n",
              "    <tr>\n",
              "      <th>label</th>\n",
              "      <th></th>\n",
              "    </tr>\n",
              "  </thead>\n",
              "  <tbody>\n",
              "    <tr>\n",
              "      <th>white</th>\n",
              "      <td>2875284</td>\n",
              "    </tr>\n",
              "    <tr>\n",
              "      <th>paduaCryptoWall</th>\n",
              "      <td>12390</td>\n",
              "    </tr>\n",
              "    <tr>\n",
              "      <th>montrealCryptoLocker</th>\n",
              "      <td>9315</td>\n",
              "    </tr>\n",
              "    <tr>\n",
              "      <th>princetonCerber</th>\n",
              "      <td>9223</td>\n",
              "    </tr>\n",
              "    <tr>\n",
              "      <th>princetonLocky</th>\n",
              "      <td>6625</td>\n",
              "    </tr>\n",
              "    <tr>\n",
              "      <th>montrealCryptXXX</th>\n",
              "      <td>2419</td>\n",
              "    </tr>\n",
              "    <tr>\n",
              "      <th>montrealNoobCrypt</th>\n",
              "      <td>483</td>\n",
              "    </tr>\n",
              "    <tr>\n",
              "      <th>montrealDMALockerv3</th>\n",
              "      <td>354</td>\n",
              "    </tr>\n",
              "    <tr>\n",
              "      <th>montrealDMALocker</th>\n",
              "      <td>251</td>\n",
              "    </tr>\n",
              "    <tr>\n",
              "      <th>montrealSamSam</th>\n",
              "      <td>62</td>\n",
              "    </tr>\n",
              "    <tr>\n",
              "      <th>montrealCryptoTorLocker2015</th>\n",
              "      <td>55</td>\n",
              "    </tr>\n",
              "    <tr>\n",
              "      <th>montrealGlobeImposter</th>\n",
              "      <td>55</td>\n",
              "    </tr>\n",
              "    <tr>\n",
              "      <th>montrealGlobev3</th>\n",
              "      <td>34</td>\n",
              "    </tr>\n",
              "    <tr>\n",
              "      <th>montrealGlobe</th>\n",
              "      <td>32</td>\n",
              "    </tr>\n",
              "    <tr>\n",
              "      <th>montrealWannaCry</th>\n",
              "      <td>28</td>\n",
              "    </tr>\n",
              "    <tr>\n",
              "      <th>montrealRazy</th>\n",
              "      <td>13</td>\n",
              "    </tr>\n",
              "    <tr>\n",
              "      <th>montrealAPT</th>\n",
              "      <td>11</td>\n",
              "    </tr>\n",
              "    <tr>\n",
              "      <th>paduaKeRanger</th>\n",
              "      <td>10</td>\n",
              "    </tr>\n",
              "    <tr>\n",
              "      <th>montrealFlyper</th>\n",
              "      <td>9</td>\n",
              "    </tr>\n",
              "    <tr>\n",
              "      <th>montrealXTPLocker</th>\n",
              "      <td>8</td>\n",
              "    </tr>\n",
              "    <tr>\n",
              "      <th>montrealVenusLocker</th>\n",
              "      <td>7</td>\n",
              "    </tr>\n",
              "    <tr>\n",
              "      <th>montrealCryptConsole</th>\n",
              "      <td>7</td>\n",
              "    </tr>\n",
              "    <tr>\n",
              "      <th>montrealXLockerv5.0</th>\n",
              "      <td>7</td>\n",
              "    </tr>\n",
              "    <tr>\n",
              "      <th>montrealEDA2</th>\n",
              "      <td>6</td>\n",
              "    </tr>\n",
              "    <tr>\n",
              "      <th>montrealJigSaw</th>\n",
              "      <td>4</td>\n",
              "    </tr>\n",
              "    <tr>\n",
              "      <th>paduaJigsaw</th>\n",
              "      <td>2</td>\n",
              "    </tr>\n",
              "    <tr>\n",
              "      <th>montrealXLocker</th>\n",
              "      <td>1</td>\n",
              "    </tr>\n",
              "    <tr>\n",
              "      <th>montrealComradeCircle</th>\n",
              "      <td>1</td>\n",
              "    </tr>\n",
              "    <tr>\n",
              "      <th>montrealSam</th>\n",
              "      <td>1</td>\n",
              "    </tr>\n",
              "  </tbody>\n",
              "</table>\n",
              "</div><br><label><b>dtype:</b> int64</label>"
            ],
            "text/plain": [
              "label\n",
              "white                          2875284\n",
              "paduaCryptoWall                  12390\n",
              "montrealCryptoLocker              9315\n",
              "princetonCerber                   9223\n",
              "princetonLocky                    6625\n",
              "montrealCryptXXX                  2419\n",
              "montrealNoobCrypt                  483\n",
              "montrealDMALockerv3                354\n",
              "montrealDMALocker                  251\n",
              "montrealSamSam                      62\n",
              "montrealCryptoTorLocker2015         55\n",
              "montrealGlobeImposter               55\n",
              "montrealGlobev3                     34\n",
              "montrealGlobe                       32\n",
              "montrealWannaCry                    28\n",
              "montrealRazy                        13\n",
              "montrealAPT                         11\n",
              "paduaKeRanger                       10\n",
              "montrealFlyper                       9\n",
              "montrealXTPLocker                    8\n",
              "montrealVenusLocker                  7\n",
              "montrealCryptConsole                 7\n",
              "montrealXLockerv5.0                  7\n",
              "montrealEDA2                         6\n",
              "montrealJigSaw                       4\n",
              "paduaJigsaw                          2\n",
              "montrealXLocker                      1\n",
              "montrealComradeCircle                1\n",
              "montrealSam                          1\n",
              "Name: count, dtype: int64"
            ]
          },
          "execution_count": 8,
          "metadata": {},
          "output_type": "execute_result"
        }
      ],
      "source": [
        "df[\"label\"].value_counts()"
      ]
    },
    {
      "cell_type": "markdown",
      "id": "18d43ec7",
      "metadata": {
        "id": "18d43ec7"
      },
      "source": [
        "So only a small fraction of transactions are fraudulent. Our anomaly detection can work well."
      ]
    },
    {
      "cell_type": "code",
      "execution_count": null,
      "id": "21237e8c",
      "metadata": {
        "colab": {
          "background_save": true
        },
        "id": "21237e8c"
      },
      "outputs": [],
      "source": [
        "categorical_cols=df.select_dtypes(include=\"object\").columns"
      ]
    },
    {
      "cell_type": "code",
      "execution_count": null,
      "id": "02d108f3",
      "metadata": {
        "colab": {
          "background_save": true
        },
        "id": "02d108f3"
      },
      "outputs": [],
      "source": [
        "numerical_cols=df.select_dtypes(include=\"number\").columns"
      ]
    },
    {
      "cell_type": "code",
      "execution_count": null,
      "id": "4928630b",
      "metadata": {
        "colab": {
          "background_save": true
        },
        "id": "4928630b",
        "outputId": "7b51a178-a43f-49cc-f818-ad04b83ec2b7"
      },
      "outputs": [
        {
          "data": {
            "text/html": [
              "<div>\n",
              "<style scoped>\n",
              "    .dataframe tbody tr th:only-of-type {\n",
              "        vertical-align: middle;\n",
              "    }\n",
              "\n",
              "    .dataframe tbody tr th {\n",
              "        vertical-align: top;\n",
              "    }\n",
              "\n",
              "    .dataframe thead th {\n",
              "        text-align: right;\n",
              "    }\n",
              "</style>\n",
              "<table border=\"1\" class=\"dataframe\">\n",
              "  <thead>\n",
              "    <tr style=\"text-align: right;\">\n",
              "      <th></th>\n",
              "      <th>0</th>\n",
              "    </tr>\n",
              "  </thead>\n",
              "  <tbody>\n",
              "    <tr>\n",
              "      <th>address</th>\n",
              "      <td>0</td>\n",
              "    </tr>\n",
              "    <tr>\n",
              "      <th>year</th>\n",
              "      <td>0</td>\n",
              "    </tr>\n",
              "    <tr>\n",
              "      <th>day</th>\n",
              "      <td>0</td>\n",
              "    </tr>\n",
              "    <tr>\n",
              "      <th>length</th>\n",
              "      <td>0</td>\n",
              "    </tr>\n",
              "    <tr>\n",
              "      <th>weight</th>\n",
              "      <td>0</td>\n",
              "    </tr>\n",
              "    <tr>\n",
              "      <th>count</th>\n",
              "      <td>0</td>\n",
              "    </tr>\n",
              "    <tr>\n",
              "      <th>looped</th>\n",
              "      <td>0</td>\n",
              "    </tr>\n",
              "    <tr>\n",
              "      <th>neighbors</th>\n",
              "      <td>0</td>\n",
              "    </tr>\n",
              "    <tr>\n",
              "      <th>income</th>\n",
              "      <td>0</td>\n",
              "    </tr>\n",
              "    <tr>\n",
              "      <th>label</th>\n",
              "      <td>0</td>\n",
              "    </tr>\n",
              "  </tbody>\n",
              "</table>\n",
              "</div><br><label><b>dtype:</b> int64</label>"
            ],
            "text/plain": [
              "address      0\n",
              "year         0\n",
              "day          0\n",
              "length       0\n",
              "weight       0\n",
              "count        0\n",
              "looped       0\n",
              "neighbors    0\n",
              "income       0\n",
              "label        0\n",
              "dtype: int64"
            ]
          },
          "execution_count": 11,
          "metadata": {},
          "output_type": "execute_result"
        }
      ],
      "source": [
        "df.isnull().sum()"
      ]
    },
    {
      "cell_type": "markdown",
      "id": "735ef5c4",
      "metadata": {
        "id": "735ef5c4"
      },
      "source": [
        "Woah! **No null values** :)"
      ]
    },
    {
      "cell_type": "code",
      "execution_count": null,
      "id": "0d89cdb6",
      "metadata": {
        "colab": {
          "background_save": true
        },
        "id": "0d89cdb6",
        "outputId": "c179cfba-f55b-439f-ef02-64e6398eebd6"
      },
      "outputs": [
        {
          "data": {
            "text/plain": [
              "2631095"
            ]
          },
          "execution_count": 12,
          "metadata": {},
          "output_type": "execute_result"
        }
      ],
      "source": [
        "df[\"address\"].nunique()"
      ]
    },
    {
      "cell_type": "code",
      "execution_count": null,
      "id": "4ee0eeae",
      "metadata": {
        "colab": {
          "background_save": true
        },
        "id": "4ee0eeae"
      },
      "outputs": [],
      "source": [
        "old_df=df.copy()"
      ]
    },
    {
      "cell_type": "markdown",
      "id": "b0a2c946",
      "metadata": {
        "id": "b0a2c946"
      },
      "source": [
        "# Feature Engineering"
      ]
    },
    {
      "cell_type": "code",
      "execution_count": null,
      "id": "79814220",
      "metadata": {
        "colab": {
          "background_save": true
        },
        "id": "79814220"
      },
      "outputs": [],
      "source": [
        "df.drop(columns=[\"address\",\"year\",\"day\"],axis=1,inplace=True)"
      ]
    },
    {
      "cell_type": "code",
      "execution_count": null,
      "id": "6fb1179e",
      "metadata": {
        "colab": {
          "background_save": true
        },
        "id": "6fb1179e"
      },
      "outputs": [],
      "source": [
        "for col in df.columns[:-1]:\n",
        "    df[col]=df[col]"
      ]
    },
    {
      "cell_type": "code",
      "execution_count": null,
      "id": "f6d856db",
      "metadata": {
        "colab": {
          "background_save": true
        },
        "id": "f6d856db"
      },
      "outputs": [],
      "source": [
        "X=df.drop(columns=[\"label\"])\n",
        "y=df[\"label\"]"
      ]
    },
    {
      "cell_type": "code",
      "execution_count": null,
      "id": "2dfb28df",
      "metadata": {
        "colab": {
          "background_save": true
        },
        "id": "2dfb28df",
        "outputId": "9829a38a-d0f9-4416-f5ee-74b29bb28be8"
      },
      "outputs": [
        {
          "data": {
            "text/plain": [
              "Index(['length', 'weight', 'count', 'looped', 'neighbors', 'income'], dtype='object')"
            ]
          },
          "execution_count": 17,
          "metadata": {},
          "output_type": "execute_result"
        }
      ],
      "source": [
        "X.columns"
      ]
    },
    {
      "cell_type": "code",
      "execution_count": null,
      "id": "488c2eb6",
      "metadata": {
        "colab": {
          "background_save": true
        },
        "id": "488c2eb6",
        "outputId": "1c040d26-913e-4e02-cd08-560c32b513d6"
      },
      "outputs": [
        {
          "data": {
            "application/vnd.google.colaboratory.intrinsic+json": {
              "type": "dataframe",
              "variable_name": "df"
            },
            "text/html": [
              "\n",
              "  <div id=\"df-386f945c-e1eb-4aba-baba-7bdecaf9ffd3\" class=\"colab-df-container\">\n",
              "    <div>\n",
              "<style scoped>\n",
              "    .dataframe tbody tr th:only-of-type {\n",
              "        vertical-align: middle;\n",
              "    }\n",
              "\n",
              "    .dataframe tbody tr th {\n",
              "        vertical-align: top;\n",
              "    }\n",
              "\n",
              "    .dataframe thead th {\n",
              "        text-align: right;\n",
              "    }\n",
              "</style>\n",
              "<table border=\"1\" class=\"dataframe\">\n",
              "  <thead>\n",
              "    <tr style=\"text-align: right;\">\n",
              "      <th></th>\n",
              "      <th>length</th>\n",
              "      <th>weight</th>\n",
              "      <th>count</th>\n",
              "      <th>looped</th>\n",
              "      <th>neighbors</th>\n",
              "      <th>income</th>\n",
              "      <th>label</th>\n",
              "    </tr>\n",
              "  </thead>\n",
              "  <tbody>\n",
              "    <tr>\n",
              "      <th>0</th>\n",
              "      <td>18</td>\n",
              "      <td>0.008333</td>\n",
              "      <td>1</td>\n",
              "      <td>0</td>\n",
              "      <td>2</td>\n",
              "      <td>100050000.0</td>\n",
              "      <td>princetonCerber</td>\n",
              "    </tr>\n",
              "    <tr>\n",
              "      <th>1</th>\n",
              "      <td>44</td>\n",
              "      <td>0.000244</td>\n",
              "      <td>1</td>\n",
              "      <td>0</td>\n",
              "      <td>1</td>\n",
              "      <td>100000000.0</td>\n",
              "      <td>princetonLocky</td>\n",
              "    </tr>\n",
              "    <tr>\n",
              "      <th>2</th>\n",
              "      <td>0</td>\n",
              "      <td>1.000000</td>\n",
              "      <td>1</td>\n",
              "      <td>0</td>\n",
              "      <td>2</td>\n",
              "      <td>200000000.0</td>\n",
              "      <td>princetonCerber</td>\n",
              "    </tr>\n",
              "    <tr>\n",
              "      <th>3</th>\n",
              "      <td>72</td>\n",
              "      <td>0.003906</td>\n",
              "      <td>1</td>\n",
              "      <td>0</td>\n",
              "      <td>2</td>\n",
              "      <td>71200000.0</td>\n",
              "      <td>princetonCerber</td>\n",
              "    </tr>\n",
              "    <tr>\n",
              "      <th>4</th>\n",
              "      <td>144</td>\n",
              "      <td>0.072848</td>\n",
              "      <td>456</td>\n",
              "      <td>0</td>\n",
              "      <td>1</td>\n",
              "      <td>200000000.0</td>\n",
              "      <td>princetonLocky</td>\n",
              "    </tr>\n",
              "  </tbody>\n",
              "</table>\n",
              "</div>\n",
              "    <div class=\"colab-df-buttons\">\n",
              "\n",
              "  <div class=\"colab-df-container\">\n",
              "    <button class=\"colab-df-convert\" onclick=\"convertToInteractive('df-386f945c-e1eb-4aba-baba-7bdecaf9ffd3')\"\n",
              "            title=\"Convert this dataframe to an interactive table.\"\n",
              "            style=\"display:none;\">\n",
              "\n",
              "  <svg xmlns=\"http://www.w3.org/2000/svg\" height=\"24px\" viewBox=\"0 -960 960 960\">\n",
              "    <path d=\"M120-120v-720h720v720H120Zm60-500h600v-160H180v160Zm220 220h160v-160H400v160Zm0 220h160v-160H400v160ZM180-400h160v-160H180v160Zm440 0h160v-160H620v160ZM180-180h160v-160H180v160Zm440 0h160v-160H620v160Z\"/>\n",
              "  </svg>\n",
              "    </button>\n",
              "\n",
              "  <style>\n",
              "    .colab-df-container {\n",
              "      display:flex;\n",
              "      gap: 12px;\n",
              "    }\n",
              "\n",
              "    .colab-df-convert {\n",
              "      background-color: #E8F0FE;\n",
              "      border: none;\n",
              "      border-radius: 50%;\n",
              "      cursor: pointer;\n",
              "      display: none;\n",
              "      fill: #1967D2;\n",
              "      height: 32px;\n",
              "      padding: 0 0 0 0;\n",
              "      width: 32px;\n",
              "    }\n",
              "\n",
              "    .colab-df-convert:hover {\n",
              "      background-color: #E2EBFA;\n",
              "      box-shadow: 0px 1px 2px rgba(60, 64, 67, 0.3), 0px 1px 3px 1px rgba(60, 64, 67, 0.15);\n",
              "      fill: #174EA6;\n",
              "    }\n",
              "\n",
              "    .colab-df-buttons div {\n",
              "      margin-bottom: 4px;\n",
              "    }\n",
              "\n",
              "    [theme=dark] .colab-df-convert {\n",
              "      background-color: #3B4455;\n",
              "      fill: #D2E3FC;\n",
              "    }\n",
              "\n",
              "    [theme=dark] .colab-df-convert:hover {\n",
              "      background-color: #434B5C;\n",
              "      box-shadow: 0px 1px 3px 1px rgba(0, 0, 0, 0.15);\n",
              "      filter: drop-shadow(0px 1px 2px rgba(0, 0, 0, 0.3));\n",
              "      fill: #FFFFFF;\n",
              "    }\n",
              "  </style>\n",
              "\n",
              "    <script>\n",
              "      const buttonEl =\n",
              "        document.querySelector('#df-386f945c-e1eb-4aba-baba-7bdecaf9ffd3 button.colab-df-convert');\n",
              "      buttonEl.style.display =\n",
              "        google.colab.kernel.accessAllowed ? 'block' : 'none';\n",
              "\n",
              "      async function convertToInteractive(key) {\n",
              "        const element = document.querySelector('#df-386f945c-e1eb-4aba-baba-7bdecaf9ffd3');\n",
              "        const dataTable =\n",
              "          await google.colab.kernel.invokeFunction('convertToInteractive',\n",
              "                                                    [key], {});\n",
              "        if (!dataTable) return;\n",
              "\n",
              "        const docLinkHtml = 'Like what you see? Visit the ' +\n",
              "          '<a target=\"_blank\" href=https://colab.research.google.com/notebooks/data_table.ipynb>data table notebook</a>'\n",
              "          + ' to learn more about interactive tables.';\n",
              "        element.innerHTML = '';\n",
              "        dataTable['output_type'] = 'display_data';\n",
              "        await google.colab.output.renderOutput(dataTable, element);\n",
              "        const docLink = document.createElement('div');\n",
              "        docLink.innerHTML = docLinkHtml;\n",
              "        element.appendChild(docLink);\n",
              "      }\n",
              "    </script>\n",
              "  </div>\n",
              "\n",
              "\n",
              "<div id=\"df-fc506f54-1af9-4246-8064-d3dcc407c66a\">\n",
              "  <button class=\"colab-df-quickchart\" onclick=\"quickchart('df-fc506f54-1af9-4246-8064-d3dcc407c66a')\"\n",
              "            title=\"Suggest charts\"\n",
              "            style=\"display:none;\">\n",
              "\n",
              "<svg xmlns=\"http://www.w3.org/2000/svg\" height=\"24px\"viewBox=\"0 0 24 24\"\n",
              "     width=\"24px\">\n",
              "    <g>\n",
              "        <path d=\"M19 3H5c-1.1 0-2 .9-2 2v14c0 1.1.9 2 2 2h14c1.1 0 2-.9 2-2V5c0-1.1-.9-2-2-2zM9 17H7v-7h2v7zm4 0h-2V7h2v10zm4 0h-2v-4h2v4z\"/>\n",
              "    </g>\n",
              "</svg>\n",
              "  </button>\n",
              "\n",
              "<style>\n",
              "  .colab-df-quickchart {\n",
              "      --bg-color: #E8F0FE;\n",
              "      --fill-color: #1967D2;\n",
              "      --hover-bg-color: #E2EBFA;\n",
              "      --hover-fill-color: #174EA6;\n",
              "      --disabled-fill-color: #AAA;\n",
              "      --disabled-bg-color: #DDD;\n",
              "  }\n",
              "\n",
              "  [theme=dark] .colab-df-quickchart {\n",
              "      --bg-color: #3B4455;\n",
              "      --fill-color: #D2E3FC;\n",
              "      --hover-bg-color: #434B5C;\n",
              "      --hover-fill-color: #FFFFFF;\n",
              "      --disabled-bg-color: #3B4455;\n",
              "      --disabled-fill-color: #666;\n",
              "  }\n",
              "\n",
              "  .colab-df-quickchart {\n",
              "    background-color: var(--bg-color);\n",
              "    border: none;\n",
              "    border-radius: 50%;\n",
              "    cursor: pointer;\n",
              "    display: none;\n",
              "    fill: var(--fill-color);\n",
              "    height: 32px;\n",
              "    padding: 0;\n",
              "    width: 32px;\n",
              "  }\n",
              "\n",
              "  .colab-df-quickchart:hover {\n",
              "    background-color: var(--hover-bg-color);\n",
              "    box-shadow: 0 1px 2px rgba(60, 64, 67, 0.3), 0 1px 3px 1px rgba(60, 64, 67, 0.15);\n",
              "    fill: var(--button-hover-fill-color);\n",
              "  }\n",
              "\n",
              "  .colab-df-quickchart-complete:disabled,\n",
              "  .colab-df-quickchart-complete:disabled:hover {\n",
              "    background-color: var(--disabled-bg-color);\n",
              "    fill: var(--disabled-fill-color);\n",
              "    box-shadow: none;\n",
              "  }\n",
              "\n",
              "  .colab-df-spinner {\n",
              "    border: 2px solid var(--fill-color);\n",
              "    border-color: transparent;\n",
              "    border-bottom-color: var(--fill-color);\n",
              "    animation:\n",
              "      spin 1s steps(1) infinite;\n",
              "  }\n",
              "\n",
              "  @keyframes spin {\n",
              "    0% {\n",
              "      border-color: transparent;\n",
              "      border-bottom-color: var(--fill-color);\n",
              "      border-left-color: var(--fill-color);\n",
              "    }\n",
              "    20% {\n",
              "      border-color: transparent;\n",
              "      border-left-color: var(--fill-color);\n",
              "      border-top-color: var(--fill-color);\n",
              "    }\n",
              "    30% {\n",
              "      border-color: transparent;\n",
              "      border-left-color: var(--fill-color);\n",
              "      border-top-color: var(--fill-color);\n",
              "      border-right-color: var(--fill-color);\n",
              "    }\n",
              "    40% {\n",
              "      border-color: transparent;\n",
              "      border-right-color: var(--fill-color);\n",
              "      border-top-color: var(--fill-color);\n",
              "    }\n",
              "    60% {\n",
              "      border-color: transparent;\n",
              "      border-right-color: var(--fill-color);\n",
              "    }\n",
              "    80% {\n",
              "      border-color: transparent;\n",
              "      border-right-color: var(--fill-color);\n",
              "      border-bottom-color: var(--fill-color);\n",
              "    }\n",
              "    90% {\n",
              "      border-color: transparent;\n",
              "      border-bottom-color: var(--fill-color);\n",
              "    }\n",
              "  }\n",
              "</style>\n",
              "\n",
              "  <script>\n",
              "    async function quickchart(key) {\n",
              "      const quickchartButtonEl =\n",
              "        document.querySelector('#' + key + ' button');\n",
              "      quickchartButtonEl.disabled = true;  // To prevent multiple clicks.\n",
              "      quickchartButtonEl.classList.add('colab-df-spinner');\n",
              "      try {\n",
              "        const charts = await google.colab.kernel.invokeFunction(\n",
              "            'suggestCharts', [key], {});\n",
              "      } catch (error) {\n",
              "        console.error('Error during call to suggestCharts:', error);\n",
              "      }\n",
              "      quickchartButtonEl.classList.remove('colab-df-spinner');\n",
              "      quickchartButtonEl.classList.add('colab-df-quickchart-complete');\n",
              "    }\n",
              "    (() => {\n",
              "      let quickchartButtonEl =\n",
              "        document.querySelector('#df-fc506f54-1af9-4246-8064-d3dcc407c66a button');\n",
              "      quickchartButtonEl.style.display =\n",
              "        google.colab.kernel.accessAllowed ? 'block' : 'none';\n",
              "    })();\n",
              "  </script>\n",
              "</div>\n",
              "\n",
              "    </div>\n",
              "  </div>\n"
            ],
            "text/plain": [
              "   length    weight  count  looped  neighbors       income            label\n",
              "0      18  0.008333      1       0          2  100050000.0  princetonCerber\n",
              "1      44  0.000244      1       0          1  100000000.0   princetonLocky\n",
              "2       0  1.000000      1       0          2  200000000.0  princetonCerber\n",
              "3      72  0.003906      1       0          2   71200000.0  princetonCerber\n",
              "4     144  0.072848    456       0          1  200000000.0   princetonLocky"
            ]
          },
          "execution_count": 18,
          "metadata": {},
          "output_type": "execute_result"
        }
      ],
      "source": [
        "df.head()"
      ]
    },
    {
      "cell_type": "markdown",
      "id": "939c3bc2",
      "metadata": {
        "id": "939c3bc2"
      },
      "source": [
        "## Number of Instances"
      ]
    },
    {
      "cell_type": "code",
      "execution_count": null,
      "id": "bb0e4407",
      "metadata": {
        "colab": {
          "background_save": true
        },
        "id": "bb0e4407"
      },
      "outputs": [],
      "source": [
        "new_df=pd.DataFrame()\n",
        "grouped=df.groupby(\"label\")"
      ]
    },
    {
      "cell_type": "code",
      "execution_count": null,
      "id": "cc427772",
      "metadata": {
        "colab": {
          "background_save": true
        },
        "id": "cc427772"
      },
      "outputs": [],
      "source": [
        "new_df[\"num_of_instances\"]=grouped.size()"
      ]
    },
    {
      "cell_type": "markdown",
      "id": "d1a9d794",
      "metadata": {
        "id": "d1a9d794"
      },
      "source": [
        "## Average"
      ]
    },
    {
      "cell_type": "code",
      "execution_count": null,
      "id": "49c9c388",
      "metadata": {
        "colab": {
          "background_save": true
        },
        "id": "49c9c388",
        "outputId": "ce83b2d8-b206-4938-a0e3-8dc8eff867d0"
      },
      "outputs": [
        {
          "data": {
            "text/plain": [
              "Index(['length', 'weight', 'count', 'looped', 'neighbors', 'income', 'label'], dtype='object')"
            ]
          },
          "execution_count": 21,
          "metadata": {},
          "output_type": "execute_result"
        }
      ],
      "source": [
        "df.columns"
      ]
    },
    {
      "cell_type": "code",
      "execution_count": null,
      "id": "a736012c",
      "metadata": {
        "colab": {
          "background_save": true
        },
        "id": "a736012c"
      },
      "outputs": [],
      "source": [
        "for col in X.columns:\n",
        "    new_df[f\"{col}_avg\"]=grouped[col].mean()"
      ]
    },
    {
      "cell_type": "code",
      "execution_count": null,
      "id": "67b5bd91",
      "metadata": {
        "colab": {
          "background_save": true
        },
        "id": "67b5bd91",
        "outputId": "5c7aabbc-d27b-4575-aad4-8a468490deeb"
      },
      "outputs": [
        {
          "data": {
            "text/plain": [
              "(29, 7)"
            ]
          },
          "execution_count": 23,
          "metadata": {},
          "output_type": "execute_result"
        }
      ],
      "source": [
        "new_df.shape"
      ]
    },
    {
      "cell_type": "code",
      "execution_count": null,
      "id": "4efafcd1",
      "metadata": {
        "colab": {
          "background_save": true
        },
        "id": "4efafcd1",
        "outputId": "8a60801e-9aa6-4cec-d91a-b94adedc2852"
      },
      "outputs": [
        {
          "data": {
            "application/vnd.google.colaboratory.intrinsic+json": {
              "summary": "{\n  \"name\": \"new_df\",\n  \"rows\": 29,\n  \"fields\": [\n    {\n      \"column\": \"label\",\n      \"properties\": {\n        \"dtype\": \"string\",\n        \"num_unique_values\": 29,\n        \"samples\": [\n          \"princetonLocky\",\n          \"montrealSam\",\n          \"montrealGlobev3\"\n        ],\n        \"semantic_type\": \"\",\n        \"description\": \"\"\n      }\n    },\n    {\n      \"column\": \"num_of_instances\",\n      \"properties\": {\n        \"dtype\": \"number\",\n        \"std\": 533662,\n        \"min\": 1,\n        \"max\": 2875284,\n        \"num_unique_values\": 24,\n        \"samples\": [\n          6,\n          28,\n          11\n        ],\n        \"semantic_type\": \"\",\n        \"description\": \"\"\n      }\n    },\n    {\n      \"column\": \"length_avg\",\n      \"properties\": {\n        \"dtype\": \"number\",\n        \"std\": 34.97676255954058,\n        \"min\": 6.0,\n        \"max\": 144.0,\n        \"num_unique_values\": 28,\n        \"samples\": [\n          19.11111111111111,\n          39.9082727962702,\n          74.33333333333333\n        ],\n        \"semantic_type\": \"\",\n        \"description\": \"\"\n      }\n    },\n    {\n      \"column\": \"weight_avg\",\n      \"properties\": {\n        \"dtype\": \"number\",\n        \"std\": 7.937523052037355,\n        \"min\": 0.0512144926325168,\n        \"max\": 43.21824751823305,\n        \"num_unique_values\": 29,\n        \"samples\": [\n          0.37410882994983474,\n          0.0625,\n          0.44996344452344395\n        ],\n        \"semantic_type\": \"\",\n        \"description\": \"\"\n      }\n    },\n    {\n      \"column\": \"count_avg\",\n      \"properties\": {\n        \"dtype\": \"number\",\n        \"std\": 1276.4341519701964,\n        \"min\": 1.0,\n        \"max\": 4511.0,\n        \"num_unique_values\": 28,\n        \"samples\": [\n          324.22222222222223,\n          737.0753550905346,\n          4355.166666666667\n        ],\n        \"semantic_type\": \"\",\n        \"description\": \"\"\n      }\n    },\n    {\n      \"column\": \"looped_avg\",\n      \"properties\": {\n        \"dtype\": \"number\",\n        \"std\": 253.3371282722987,\n        \"min\": 0.0,\n        \"max\": 951.5,\n        \"num_unique_values\": 22,\n        \"samples\": [\n          734.0909090909091,\n          1.0,\n          393.65625\n        ],\n        \"semantic_type\": \"\",\n        \"description\": \"\"\n      }\n    },\n    {\n      \"column\": \"neighbors_avg\",\n      \"properties\": {\n        \"dtype\": \"number\",\n        \"std\": 2.2353309304991473,\n        \"min\": 1.0,\n        \"max\": 10.23076923076923,\n        \"num_unique_values\": 25,\n        \"samples\": [\n          1.4444444444444444,\n          1.5714285714285714,\n          2.5454545454545454\n        ],\n        \"semantic_type\": \"\",\n        \"description\": \"\"\n      }\n    },\n    {\n      \"column\": \"income_avg\",\n      \"properties\": {\n        \"dtype\": \"number\",\n        \"std\": 42276486059.11073,\n        \"min\": 37852093.833333336,\n        \"max\": 228205910310.92307,\n        \"num_unique_values\": 29,\n        \"samples\": [\n          244419978.9933585,\n          2900000000.0,\n          119933550.23529412\n        ],\n        \"semantic_type\": \"\",\n        \"description\": \"\"\n      }\n    }\n  ]\n}",
              "type": "dataframe",
              "variable_name": "new_df"
            },
            "text/html": [
              "\n",
              "  <div id=\"df-fa23a405-61af-4141-90ff-717a2ed90c10\" class=\"colab-df-container\">\n",
              "    <div>\n",
              "<style scoped>\n",
              "    .dataframe tbody tr th:only-of-type {\n",
              "        vertical-align: middle;\n",
              "    }\n",
              "\n",
              "    .dataframe tbody tr th {\n",
              "        vertical-align: top;\n",
              "    }\n",
              "\n",
              "    .dataframe thead th {\n",
              "        text-align: right;\n",
              "    }\n",
              "</style>\n",
              "<table border=\"1\" class=\"dataframe\">\n",
              "  <thead>\n",
              "    <tr style=\"text-align: right;\">\n",
              "      <th></th>\n",
              "      <th>num_of_instances</th>\n",
              "      <th>length_avg</th>\n",
              "      <th>weight_avg</th>\n",
              "      <th>count_avg</th>\n",
              "      <th>looped_avg</th>\n",
              "      <th>neighbors_avg</th>\n",
              "      <th>income_avg</th>\n",
              "    </tr>\n",
              "    <tr>\n",
              "      <th>label</th>\n",
              "      <th></th>\n",
              "      <th></th>\n",
              "      <th></th>\n",
              "      <th></th>\n",
              "      <th></th>\n",
              "      <th></th>\n",
              "      <th></th>\n",
              "    </tr>\n",
              "  </thead>\n",
              "  <tbody>\n",
              "    <tr>\n",
              "      <th>montrealAPT</th>\n",
              "      <td>11</td>\n",
              "      <td>67.636364</td>\n",
              "      <td>0.707728</td>\n",
              "      <td>2047.000000</td>\n",
              "      <td>734.090909</td>\n",
              "      <td>2.545455</td>\n",
              "      <td>3.719873e+08</td>\n",
              "    </tr>\n",
              "    <tr>\n",
              "      <th>montrealComradeCircle</th>\n",
              "      <td>1</td>\n",
              "      <td>144.000000</td>\n",
              "      <td>0.051214</td>\n",
              "      <td>1241.000000</td>\n",
              "      <td>0.000000</td>\n",
              "      <td>2.000000</td>\n",
              "      <td>2.033200e+08</td>\n",
              "    </tr>\n",
              "    <tr>\n",
              "      <th>montrealCryptConsole</th>\n",
              "      <td>7</td>\n",
              "      <td>43.428571</td>\n",
              "      <td>0.593306</td>\n",
              "      <td>831.714286</td>\n",
              "      <td>0.000000</td>\n",
              "      <td>2.000000</td>\n",
              "      <td>4.546334e+07</td>\n",
              "    </tr>\n",
              "    <tr>\n",
              "      <th>montrealCryptXXX</th>\n",
              "      <td>2419</td>\n",
              "      <td>47.447706</td>\n",
              "      <td>0.367505</td>\n",
              "      <td>791.848284</td>\n",
              "      <td>61.022323</td>\n",
              "      <td>2.011988</td>\n",
              "      <td>1.355343e+08</td>\n",
              "    </tr>\n",
              "    <tr>\n",
              "      <th>montrealCryptoLocker</th>\n",
              "      <td>9315</td>\n",
              "      <td>30.674396</td>\n",
              "      <td>0.888878</td>\n",
              "      <td>308.328824</td>\n",
              "      <td>100.981535</td>\n",
              "      <td>2.885346</td>\n",
              "      <td>1.840825e+09</td>\n",
              "    </tr>\n",
              "  </tbody>\n",
              "</table>\n",
              "</div>\n",
              "    <div class=\"colab-df-buttons\">\n",
              "\n",
              "  <div class=\"colab-df-container\">\n",
              "    <button class=\"colab-df-convert\" onclick=\"convertToInteractive('df-fa23a405-61af-4141-90ff-717a2ed90c10')\"\n",
              "            title=\"Convert this dataframe to an interactive table.\"\n",
              "            style=\"display:none;\">\n",
              "\n",
              "  <svg xmlns=\"http://www.w3.org/2000/svg\" height=\"24px\" viewBox=\"0 -960 960 960\">\n",
              "    <path d=\"M120-120v-720h720v720H120Zm60-500h600v-160H180v160Zm220 220h160v-160H400v160Zm0 220h160v-160H400v160ZM180-400h160v-160H180v160Zm440 0h160v-160H620v160ZM180-180h160v-160H180v160Zm440 0h160v-160H620v160Z\"/>\n",
              "  </svg>\n",
              "    </button>\n",
              "\n",
              "  <style>\n",
              "    .colab-df-container {\n",
              "      display:flex;\n",
              "      gap: 12px;\n",
              "    }\n",
              "\n",
              "    .colab-df-convert {\n",
              "      background-color: #E8F0FE;\n",
              "      border: none;\n",
              "      border-radius: 50%;\n",
              "      cursor: pointer;\n",
              "      display: none;\n",
              "      fill: #1967D2;\n",
              "      height: 32px;\n",
              "      padding: 0 0 0 0;\n",
              "      width: 32px;\n",
              "    }\n",
              "\n",
              "    .colab-df-convert:hover {\n",
              "      background-color: #E2EBFA;\n",
              "      box-shadow: 0px 1px 2px rgba(60, 64, 67, 0.3), 0px 1px 3px 1px rgba(60, 64, 67, 0.15);\n",
              "      fill: #174EA6;\n",
              "    }\n",
              "\n",
              "    .colab-df-buttons div {\n",
              "      margin-bottom: 4px;\n",
              "    }\n",
              "\n",
              "    [theme=dark] .colab-df-convert {\n",
              "      background-color: #3B4455;\n",
              "      fill: #D2E3FC;\n",
              "    }\n",
              "\n",
              "    [theme=dark] .colab-df-convert:hover {\n",
              "      background-color: #434B5C;\n",
              "      box-shadow: 0px 1px 3px 1px rgba(0, 0, 0, 0.15);\n",
              "      filter: drop-shadow(0px 1px 2px rgba(0, 0, 0, 0.3));\n",
              "      fill: #FFFFFF;\n",
              "    }\n",
              "  </style>\n",
              "\n",
              "    <script>\n",
              "      const buttonEl =\n",
              "        document.querySelector('#df-fa23a405-61af-4141-90ff-717a2ed90c10 button.colab-df-convert');\n",
              "      buttonEl.style.display =\n",
              "        google.colab.kernel.accessAllowed ? 'block' : 'none';\n",
              "\n",
              "      async function convertToInteractive(key) {\n",
              "        const element = document.querySelector('#df-fa23a405-61af-4141-90ff-717a2ed90c10');\n",
              "        const dataTable =\n",
              "          await google.colab.kernel.invokeFunction('convertToInteractive',\n",
              "                                                    [key], {});\n",
              "        if (!dataTable) return;\n",
              "\n",
              "        const docLinkHtml = 'Like what you see? Visit the ' +\n",
              "          '<a target=\"_blank\" href=https://colab.research.google.com/notebooks/data_table.ipynb>data table notebook</a>'\n",
              "          + ' to learn more about interactive tables.';\n",
              "        element.innerHTML = '';\n",
              "        dataTable['output_type'] = 'display_data';\n",
              "        await google.colab.output.renderOutput(dataTable, element);\n",
              "        const docLink = document.createElement('div');\n",
              "        docLink.innerHTML = docLinkHtml;\n",
              "        element.appendChild(docLink);\n",
              "      }\n",
              "    </script>\n",
              "  </div>\n",
              "\n",
              "\n",
              "<div id=\"df-6557c868-af16-4936-b386-81e8f809d359\">\n",
              "  <button class=\"colab-df-quickchart\" onclick=\"quickchart('df-6557c868-af16-4936-b386-81e8f809d359')\"\n",
              "            title=\"Suggest charts\"\n",
              "            style=\"display:none;\">\n",
              "\n",
              "<svg xmlns=\"http://www.w3.org/2000/svg\" height=\"24px\"viewBox=\"0 0 24 24\"\n",
              "     width=\"24px\">\n",
              "    <g>\n",
              "        <path d=\"M19 3H5c-1.1 0-2 .9-2 2v14c0 1.1.9 2 2 2h14c1.1 0 2-.9 2-2V5c0-1.1-.9-2-2-2zM9 17H7v-7h2v7zm4 0h-2V7h2v10zm4 0h-2v-4h2v4z\"/>\n",
              "    </g>\n",
              "</svg>\n",
              "  </button>\n",
              "\n",
              "<style>\n",
              "  .colab-df-quickchart {\n",
              "      --bg-color: #E8F0FE;\n",
              "      --fill-color: #1967D2;\n",
              "      --hover-bg-color: #E2EBFA;\n",
              "      --hover-fill-color: #174EA6;\n",
              "      --disabled-fill-color: #AAA;\n",
              "      --disabled-bg-color: #DDD;\n",
              "  }\n",
              "\n",
              "  [theme=dark] .colab-df-quickchart {\n",
              "      --bg-color: #3B4455;\n",
              "      --fill-color: #D2E3FC;\n",
              "      --hover-bg-color: #434B5C;\n",
              "      --hover-fill-color: #FFFFFF;\n",
              "      --disabled-bg-color: #3B4455;\n",
              "      --disabled-fill-color: #666;\n",
              "  }\n",
              "\n",
              "  .colab-df-quickchart {\n",
              "    background-color: var(--bg-color);\n",
              "    border: none;\n",
              "    border-radius: 50%;\n",
              "    cursor: pointer;\n",
              "    display: none;\n",
              "    fill: var(--fill-color);\n",
              "    height: 32px;\n",
              "    padding: 0;\n",
              "    width: 32px;\n",
              "  }\n",
              "\n",
              "  .colab-df-quickchart:hover {\n",
              "    background-color: var(--hover-bg-color);\n",
              "    box-shadow: 0 1px 2px rgba(60, 64, 67, 0.3), 0 1px 3px 1px rgba(60, 64, 67, 0.15);\n",
              "    fill: var(--button-hover-fill-color);\n",
              "  }\n",
              "\n",
              "  .colab-df-quickchart-complete:disabled,\n",
              "  .colab-df-quickchart-complete:disabled:hover {\n",
              "    background-color: var(--disabled-bg-color);\n",
              "    fill: var(--disabled-fill-color);\n",
              "    box-shadow: none;\n",
              "  }\n",
              "\n",
              "  .colab-df-spinner {\n",
              "    border: 2px solid var(--fill-color);\n",
              "    border-color: transparent;\n",
              "    border-bottom-color: var(--fill-color);\n",
              "    animation:\n",
              "      spin 1s steps(1) infinite;\n",
              "  }\n",
              "\n",
              "  @keyframes spin {\n",
              "    0% {\n",
              "      border-color: transparent;\n",
              "      border-bottom-color: var(--fill-color);\n",
              "      border-left-color: var(--fill-color);\n",
              "    }\n",
              "    20% {\n",
              "      border-color: transparent;\n",
              "      border-left-color: var(--fill-color);\n",
              "      border-top-color: var(--fill-color);\n",
              "    }\n",
              "    30% {\n",
              "      border-color: transparent;\n",
              "      border-left-color: var(--fill-color);\n",
              "      border-top-color: var(--fill-color);\n",
              "      border-right-color: var(--fill-color);\n",
              "    }\n",
              "    40% {\n",
              "      border-color: transparent;\n",
              "      border-right-color: var(--fill-color);\n",
              "      border-top-color: var(--fill-color);\n",
              "    }\n",
              "    60% {\n",
              "      border-color: transparent;\n",
              "      border-right-color: var(--fill-color);\n",
              "    }\n",
              "    80% {\n",
              "      border-color: transparent;\n",
              "      border-right-color: var(--fill-color);\n",
              "      border-bottom-color: var(--fill-color);\n",
              "    }\n",
              "    90% {\n",
              "      border-color: transparent;\n",
              "      border-bottom-color: var(--fill-color);\n",
              "    }\n",
              "  }\n",
              "</style>\n",
              "\n",
              "  <script>\n",
              "    async function quickchart(key) {\n",
              "      const quickchartButtonEl =\n",
              "        document.querySelector('#' + key + ' button');\n",
              "      quickchartButtonEl.disabled = true;  // To prevent multiple clicks.\n",
              "      quickchartButtonEl.classList.add('colab-df-spinner');\n",
              "      try {\n",
              "        const charts = await google.colab.kernel.invokeFunction(\n",
              "            'suggestCharts', [key], {});\n",
              "      } catch (error) {\n",
              "        console.error('Error during call to suggestCharts:', error);\n",
              "      }\n",
              "      quickchartButtonEl.classList.remove('colab-df-spinner');\n",
              "      quickchartButtonEl.classList.add('colab-df-quickchart-complete');\n",
              "    }\n",
              "    (() => {\n",
              "      let quickchartButtonEl =\n",
              "        document.querySelector('#df-6557c868-af16-4936-b386-81e8f809d359 button');\n",
              "      quickchartButtonEl.style.display =\n",
              "        google.colab.kernel.accessAllowed ? 'block' : 'none';\n",
              "    })();\n",
              "  </script>\n",
              "</div>\n",
              "\n",
              "    </div>\n",
              "  </div>\n"
            ],
            "text/plain": [
              "                       num_of_instances  length_avg  weight_avg    count_avg  \\\n",
              "label                                                                          \n",
              "montrealAPT                          11   67.636364    0.707728  2047.000000   \n",
              "montrealComradeCircle                 1  144.000000    0.051214  1241.000000   \n",
              "montrealCryptConsole                  7   43.428571    0.593306   831.714286   \n",
              "montrealCryptXXX                   2419   47.447706    0.367505   791.848284   \n",
              "montrealCryptoLocker               9315   30.674396    0.888878   308.328824   \n",
              "\n",
              "                       looped_avg  neighbors_avg    income_avg  \n",
              "label                                                           \n",
              "montrealAPT            734.090909       2.545455  3.719873e+08  \n",
              "montrealComradeCircle    0.000000       2.000000  2.033200e+08  \n",
              "montrealCryptConsole     0.000000       2.000000  4.546334e+07  \n",
              "montrealCryptXXX        61.022323       2.011988  1.355343e+08  \n",
              "montrealCryptoLocker   100.981535       2.885346  1.840825e+09  "
            ]
          },
          "execution_count": 24,
          "metadata": {},
          "output_type": "execute_result"
        }
      ],
      "source": [
        "new_df.head()"
      ]
    },
    {
      "cell_type": "markdown",
      "id": "dbed0c9d",
      "metadata": {
        "id": "dbed0c9d"
      },
      "source": [
        "## Standard Deviation"
      ]
    },
    {
      "cell_type": "code",
      "execution_count": null,
      "id": "c4aeca90",
      "metadata": {
        "colab": {
          "background_save": true
        },
        "id": "c4aeca90",
        "outputId": "9194fb28-932f-4f53-c7f7-c3c5cf7ff690"
      },
      "outputs": [
        {
          "name": "stderr",
          "output_type": "stream",
          "text": [
            "<ipython-input-25-475c34e448b9>:2: FutureWarning: The provided callable <function std at 0x7e4b0b713eb0> is currently using SeriesGroupBy.std. In a future version of pandas, the provided callable will be used directly. To keep current behavior pass the string \"std\" instead.\n",
            "  new_df[f\"{col}_std\"]=grouped[col].agg(np.std).fillna(0)\n",
            "<ipython-input-25-475c34e448b9>:2: FutureWarning: The provided callable <function std at 0x7e4b0b713eb0> is currently using SeriesGroupBy.std. In a future version of pandas, the provided callable will be used directly. To keep current behavior pass the string \"std\" instead.\n",
            "  new_df[f\"{col}_std\"]=grouped[col].agg(np.std).fillna(0)\n",
            "<ipython-input-25-475c34e448b9>:2: FutureWarning: The provided callable <function std at 0x7e4b0b713eb0> is currently using SeriesGroupBy.std. In a future version of pandas, the provided callable will be used directly. To keep current behavior pass the string \"std\" instead.\n",
            "  new_df[f\"{col}_std\"]=grouped[col].agg(np.std).fillna(0)\n",
            "<ipython-input-25-475c34e448b9>:2: FutureWarning: The provided callable <function std at 0x7e4b0b713eb0> is currently using SeriesGroupBy.std. In a future version of pandas, the provided callable will be used directly. To keep current behavior pass the string \"std\" instead.\n",
            "  new_df[f\"{col}_std\"]=grouped[col].agg(np.std).fillna(0)\n",
            "<ipython-input-25-475c34e448b9>:2: FutureWarning: The provided callable <function std at 0x7e4b0b713eb0> is currently using SeriesGroupBy.std. In a future version of pandas, the provided callable will be used directly. To keep current behavior pass the string \"std\" instead.\n",
            "  new_df[f\"{col}_std\"]=grouped[col].agg(np.std).fillna(0)\n",
            "<ipython-input-25-475c34e448b9>:2: FutureWarning: The provided callable <function std at 0x7e4b0b713eb0> is currently using SeriesGroupBy.std. In a future version of pandas, the provided callable will be used directly. To keep current behavior pass the string \"std\" instead.\n",
            "  new_df[f\"{col}_std\"]=grouped[col].agg(np.std).fillna(0)\n"
          ]
        }
      ],
      "source": [
        "for col in X.columns:\n",
        "    new_df[f\"{col}_std\"]=grouped[col].agg(np.std).fillna(0)"
      ]
    },
    {
      "cell_type": "markdown",
      "id": "25af5bee",
      "metadata": {
        "id": "25af5bee"
      },
      "source": [
        "## Minimum"
      ]
    },
    {
      "cell_type": "code",
      "execution_count": null,
      "id": "70fed672",
      "metadata": {
        "colab": {
          "background_save": true
        },
        "id": "70fed672"
      },
      "outputs": [],
      "source": [
        "for col in X.columns:\n",
        "    new_df[f\"{col}_min\"]=grouped[col].min()"
      ]
    },
    {
      "cell_type": "markdown",
      "id": "540652bd",
      "metadata": {
        "id": "540652bd"
      },
      "source": [
        "## Maximum"
      ]
    },
    {
      "cell_type": "code",
      "execution_count": null,
      "id": "43dad826",
      "metadata": {
        "colab": {
          "background_save": true
        },
        "id": "43dad826"
      },
      "outputs": [],
      "source": [
        "for col in X.columns:\n",
        "    new_df[f\"{col}_max\"]=grouped[col].max()"
      ]
    },
    {
      "cell_type": "code",
      "execution_count": null,
      "id": "1449ea0f",
      "metadata": {
        "colab": {
          "background_save": true
        },
        "id": "1449ea0f",
        "outputId": "47f21447-b29b-424a-9da8-a5dd5cb8b653"
      },
      "outputs": [
        {
          "data": {
            "application/vnd.google.colaboratory.intrinsic+json": {
              "type": "dataframe",
              "variable_name": "new_df"
            },
            "text/html": [
              "\n",
              "  <div id=\"df-41e241b9-ae12-4909-a211-f70cea73553e\" class=\"colab-df-container\">\n",
              "    <div>\n",
              "<style scoped>\n",
              "    .dataframe tbody tr th:only-of-type {\n",
              "        vertical-align: middle;\n",
              "    }\n",
              "\n",
              "    .dataframe tbody tr th {\n",
              "        vertical-align: top;\n",
              "    }\n",
              "\n",
              "    .dataframe thead th {\n",
              "        text-align: right;\n",
              "    }\n",
              "</style>\n",
              "<table border=\"1\" class=\"dataframe\">\n",
              "  <thead>\n",
              "    <tr style=\"text-align: right;\">\n",
              "      <th></th>\n",
              "      <th>label</th>\n",
              "      <th>num_of_instances</th>\n",
              "      <th>length_avg</th>\n",
              "      <th>weight_avg</th>\n",
              "      <th>count_avg</th>\n",
              "      <th>looped_avg</th>\n",
              "      <th>neighbors_avg</th>\n",
              "      <th>income_avg</th>\n",
              "      <th>length_std</th>\n",
              "      <th>weight_std</th>\n",
              "      <th>...</th>\n",
              "      <th>count_min</th>\n",
              "      <th>looped_min</th>\n",
              "      <th>neighbors_min</th>\n",
              "      <th>income_min</th>\n",
              "      <th>length_max</th>\n",
              "      <th>weight_max</th>\n",
              "      <th>count_max</th>\n",
              "      <th>looped_max</th>\n",
              "      <th>neighbors_max</th>\n",
              "      <th>income_max</th>\n",
              "    </tr>\n",
              "  </thead>\n",
              "  <tbody>\n",
              "    <tr>\n",
              "      <th>0</th>\n",
              "      <td>montrealAPT</td>\n",
              "      <td>11</td>\n",
              "      <td>67.636364</td>\n",
              "      <td>0.707728</td>\n",
              "      <td>2047.000000</td>\n",
              "      <td>734.090909</td>\n",
              "      <td>2.545455</td>\n",
              "      <td>3.719873e+08</td>\n",
              "      <td>73.145434</td>\n",
              "      <td>0.600596</td>\n",
              "      <td>...</td>\n",
              "      <td>1</td>\n",
              "      <td>0</td>\n",
              "      <td>1</td>\n",
              "      <td>57142857.0</td>\n",
              "      <td>144</td>\n",
              "      <td>1.666667</td>\n",
              "      <td>8076</td>\n",
              "      <td>8073</td>\n",
              "      <td>6</td>\n",
              "      <td>1.088599e+09</td>\n",
              "    </tr>\n",
              "    <tr>\n",
              "      <th>1</th>\n",
              "      <td>montrealComradeCircle</td>\n",
              "      <td>1</td>\n",
              "      <td>144.000000</td>\n",
              "      <td>0.051214</td>\n",
              "      <td>1241.000000</td>\n",
              "      <td>0.000000</td>\n",
              "      <td>2.000000</td>\n",
              "      <td>2.033200e+08</td>\n",
              "      <td>0.000000</td>\n",
              "      <td>0.000000</td>\n",
              "      <td>...</td>\n",
              "      <td>1241</td>\n",
              "      <td>0</td>\n",
              "      <td>2</td>\n",
              "      <td>203320001.0</td>\n",
              "      <td>144</td>\n",
              "      <td>0.051214</td>\n",
              "      <td>1241</td>\n",
              "      <td>0</td>\n",
              "      <td>2</td>\n",
              "      <td>2.033200e+08</td>\n",
              "    </tr>\n",
              "    <tr>\n",
              "      <th>2</th>\n",
              "      <td>montrealCryptConsole</td>\n",
              "      <td>7</td>\n",
              "      <td>43.428571</td>\n",
              "      <td>0.593306</td>\n",
              "      <td>831.714286</td>\n",
              "      <td>0.000000</td>\n",
              "      <td>2.000000</td>\n",
              "      <td>4.546334e+07</td>\n",
              "      <td>68.747987</td>\n",
              "      <td>0.410909</td>\n",
              "      <td>...</td>\n",
              "      <td>1</td>\n",
              "      <td>0</td>\n",
              "      <td>2</td>\n",
              "      <td>30000000.0</td>\n",
              "      <td>144</td>\n",
              "      <td>1.000000</td>\n",
              "      <td>3191</td>\n",
              "      <td>0</td>\n",
              "      <td>2</td>\n",
              "      <td>5.030000e+07</td>\n",
              "    </tr>\n",
              "    <tr>\n",
              "      <th>3</th>\n",
              "      <td>montrealCryptXXX</td>\n",
              "      <td>2419</td>\n",
              "      <td>47.447706</td>\n",
              "      <td>0.367505</td>\n",
              "      <td>791.848284</td>\n",
              "      <td>61.022323</td>\n",
              "      <td>2.011988</td>\n",
              "      <td>1.355343e+08</td>\n",
              "      <td>58.187904</td>\n",
              "      <td>0.434143</td>\n",
              "      <td>...</td>\n",
              "      <td>1</td>\n",
              "      <td>0</td>\n",
              "      <td>1</td>\n",
              "      <td>30000000.0</td>\n",
              "      <td>144</td>\n",
              "      <td>3.458951</td>\n",
              "      <td>9262</td>\n",
              "      <td>8489</td>\n",
              "      <td>15</td>\n",
              "      <td>1.080000e+09</td>\n",
              "    </tr>\n",
              "    <tr>\n",
              "      <th>4</th>\n",
              "      <td>montrealCryptoLocker</td>\n",
              "      <td>9315</td>\n",
              "      <td>30.674396</td>\n",
              "      <td>0.888878</td>\n",
              "      <td>308.328824</td>\n",
              "      <td>100.981535</td>\n",
              "      <td>2.885346</td>\n",
              "      <td>1.840825e+09</td>\n",
              "      <td>50.731602</td>\n",
              "      <td>1.555608</td>\n",
              "      <td>...</td>\n",
              "      <td>1</td>\n",
              "      <td>0</td>\n",
              "      <td>1</td>\n",
              "      <td>30000000.0</td>\n",
              "      <td>144</td>\n",
              "      <td>31.108593</td>\n",
              "      <td>6423</td>\n",
              "      <td>6418</td>\n",
              "      <td>79</td>\n",
              "      <td>4.450000e+11</td>\n",
              "    </tr>\n",
              "  </tbody>\n",
              "</table>\n",
              "<p>5 rows × 26 columns</p>\n",
              "</div>\n",
              "    <div class=\"colab-df-buttons\">\n",
              "\n",
              "  <div class=\"colab-df-container\">\n",
              "    <button class=\"colab-df-convert\" onclick=\"convertToInteractive('df-41e241b9-ae12-4909-a211-f70cea73553e')\"\n",
              "            title=\"Convert this dataframe to an interactive table.\"\n",
              "            style=\"display:none;\">\n",
              "\n",
              "  <svg xmlns=\"http://www.w3.org/2000/svg\" height=\"24px\" viewBox=\"0 -960 960 960\">\n",
              "    <path d=\"M120-120v-720h720v720H120Zm60-500h600v-160H180v160Zm220 220h160v-160H400v160Zm0 220h160v-160H400v160ZM180-400h160v-160H180v160Zm440 0h160v-160H620v160ZM180-180h160v-160H180v160Zm440 0h160v-160H620v160Z\"/>\n",
              "  </svg>\n",
              "    </button>\n",
              "\n",
              "  <style>\n",
              "    .colab-df-container {\n",
              "      display:flex;\n",
              "      gap: 12px;\n",
              "    }\n",
              "\n",
              "    .colab-df-convert {\n",
              "      background-color: #E8F0FE;\n",
              "      border: none;\n",
              "      border-radius: 50%;\n",
              "      cursor: pointer;\n",
              "      display: none;\n",
              "      fill: #1967D2;\n",
              "      height: 32px;\n",
              "      padding: 0 0 0 0;\n",
              "      width: 32px;\n",
              "    }\n",
              "\n",
              "    .colab-df-convert:hover {\n",
              "      background-color: #E2EBFA;\n",
              "      box-shadow: 0px 1px 2px rgba(60, 64, 67, 0.3), 0px 1px 3px 1px rgba(60, 64, 67, 0.15);\n",
              "      fill: #174EA6;\n",
              "    }\n",
              "\n",
              "    .colab-df-buttons div {\n",
              "      margin-bottom: 4px;\n",
              "    }\n",
              "\n",
              "    [theme=dark] .colab-df-convert {\n",
              "      background-color: #3B4455;\n",
              "      fill: #D2E3FC;\n",
              "    }\n",
              "\n",
              "    [theme=dark] .colab-df-convert:hover {\n",
              "      background-color: #434B5C;\n",
              "      box-shadow: 0px 1px 3px 1px rgba(0, 0, 0, 0.15);\n",
              "      filter: drop-shadow(0px 1px 2px rgba(0, 0, 0, 0.3));\n",
              "      fill: #FFFFFF;\n",
              "    }\n",
              "  </style>\n",
              "\n",
              "    <script>\n",
              "      const buttonEl =\n",
              "        document.querySelector('#df-41e241b9-ae12-4909-a211-f70cea73553e button.colab-df-convert');\n",
              "      buttonEl.style.display =\n",
              "        google.colab.kernel.accessAllowed ? 'block' : 'none';\n",
              "\n",
              "      async function convertToInteractive(key) {\n",
              "        const element = document.querySelector('#df-41e241b9-ae12-4909-a211-f70cea73553e');\n",
              "        const dataTable =\n",
              "          await google.colab.kernel.invokeFunction('convertToInteractive',\n",
              "                                                    [key], {});\n",
              "        if (!dataTable) return;\n",
              "\n",
              "        const docLinkHtml = 'Like what you see? Visit the ' +\n",
              "          '<a target=\"_blank\" href=https://colab.research.google.com/notebooks/data_table.ipynb>data table notebook</a>'\n",
              "          + ' to learn more about interactive tables.';\n",
              "        element.innerHTML = '';\n",
              "        dataTable['output_type'] = 'display_data';\n",
              "        await google.colab.output.renderOutput(dataTable, element);\n",
              "        const docLink = document.createElement('div');\n",
              "        docLink.innerHTML = docLinkHtml;\n",
              "        element.appendChild(docLink);\n",
              "      }\n",
              "    </script>\n",
              "  </div>\n",
              "\n",
              "\n",
              "<div id=\"df-8e47d5ab-3ac6-4dee-9c5d-44d9a7f7174b\">\n",
              "  <button class=\"colab-df-quickchart\" onclick=\"quickchart('df-8e47d5ab-3ac6-4dee-9c5d-44d9a7f7174b')\"\n",
              "            title=\"Suggest charts\"\n",
              "            style=\"display:none;\">\n",
              "\n",
              "<svg xmlns=\"http://www.w3.org/2000/svg\" height=\"24px\"viewBox=\"0 0 24 24\"\n",
              "     width=\"24px\">\n",
              "    <g>\n",
              "        <path d=\"M19 3H5c-1.1 0-2 .9-2 2v14c0 1.1.9 2 2 2h14c1.1 0 2-.9 2-2V5c0-1.1-.9-2-2-2zM9 17H7v-7h2v7zm4 0h-2V7h2v10zm4 0h-2v-4h2v4z\"/>\n",
              "    </g>\n",
              "</svg>\n",
              "  </button>\n",
              "\n",
              "<style>\n",
              "  .colab-df-quickchart {\n",
              "      --bg-color: #E8F0FE;\n",
              "      --fill-color: #1967D2;\n",
              "      --hover-bg-color: #E2EBFA;\n",
              "      --hover-fill-color: #174EA6;\n",
              "      --disabled-fill-color: #AAA;\n",
              "      --disabled-bg-color: #DDD;\n",
              "  }\n",
              "\n",
              "  [theme=dark] .colab-df-quickchart {\n",
              "      --bg-color: #3B4455;\n",
              "      --fill-color: #D2E3FC;\n",
              "      --hover-bg-color: #434B5C;\n",
              "      --hover-fill-color: #FFFFFF;\n",
              "      --disabled-bg-color: #3B4455;\n",
              "      --disabled-fill-color: #666;\n",
              "  }\n",
              "\n",
              "  .colab-df-quickchart {\n",
              "    background-color: var(--bg-color);\n",
              "    border: none;\n",
              "    border-radius: 50%;\n",
              "    cursor: pointer;\n",
              "    display: none;\n",
              "    fill: var(--fill-color);\n",
              "    height: 32px;\n",
              "    padding: 0;\n",
              "    width: 32px;\n",
              "  }\n",
              "\n",
              "  .colab-df-quickchart:hover {\n",
              "    background-color: var(--hover-bg-color);\n",
              "    box-shadow: 0 1px 2px rgba(60, 64, 67, 0.3), 0 1px 3px 1px rgba(60, 64, 67, 0.15);\n",
              "    fill: var(--button-hover-fill-color);\n",
              "  }\n",
              "\n",
              "  .colab-df-quickchart-complete:disabled,\n",
              "  .colab-df-quickchart-complete:disabled:hover {\n",
              "    background-color: var(--disabled-bg-color);\n",
              "    fill: var(--disabled-fill-color);\n",
              "    box-shadow: none;\n",
              "  }\n",
              "\n",
              "  .colab-df-spinner {\n",
              "    border: 2px solid var(--fill-color);\n",
              "    border-color: transparent;\n",
              "    border-bottom-color: var(--fill-color);\n",
              "    animation:\n",
              "      spin 1s steps(1) infinite;\n",
              "  }\n",
              "\n",
              "  @keyframes spin {\n",
              "    0% {\n",
              "      border-color: transparent;\n",
              "      border-bottom-color: var(--fill-color);\n",
              "      border-left-color: var(--fill-color);\n",
              "    }\n",
              "    20% {\n",
              "      border-color: transparent;\n",
              "      border-left-color: var(--fill-color);\n",
              "      border-top-color: var(--fill-color);\n",
              "    }\n",
              "    30% {\n",
              "      border-color: transparent;\n",
              "      border-left-color: var(--fill-color);\n",
              "      border-top-color: var(--fill-color);\n",
              "      border-right-color: var(--fill-color);\n",
              "    }\n",
              "    40% {\n",
              "      border-color: transparent;\n",
              "      border-right-color: var(--fill-color);\n",
              "      border-top-color: var(--fill-color);\n",
              "    }\n",
              "    60% {\n",
              "      border-color: transparent;\n",
              "      border-right-color: var(--fill-color);\n",
              "    }\n",
              "    80% {\n",
              "      border-color: transparent;\n",
              "      border-right-color: var(--fill-color);\n",
              "      border-bottom-color: var(--fill-color);\n",
              "    }\n",
              "    90% {\n",
              "      border-color: transparent;\n",
              "      border-bottom-color: var(--fill-color);\n",
              "    }\n",
              "  }\n",
              "</style>\n",
              "\n",
              "  <script>\n",
              "    async function quickchart(key) {\n",
              "      const quickchartButtonEl =\n",
              "        document.querySelector('#' + key + ' button');\n",
              "      quickchartButtonEl.disabled = true;  // To prevent multiple clicks.\n",
              "      quickchartButtonEl.classList.add('colab-df-spinner');\n",
              "      try {\n",
              "        const charts = await google.colab.kernel.invokeFunction(\n",
              "            'suggestCharts', [key], {});\n",
              "      } catch (error) {\n",
              "        console.error('Error during call to suggestCharts:', error);\n",
              "      }\n",
              "      quickchartButtonEl.classList.remove('colab-df-spinner');\n",
              "      quickchartButtonEl.classList.add('colab-df-quickchart-complete');\n",
              "    }\n",
              "    (() => {\n",
              "      let quickchartButtonEl =\n",
              "        document.querySelector('#df-8e47d5ab-3ac6-4dee-9c5d-44d9a7f7174b button');\n",
              "      quickchartButtonEl.style.display =\n",
              "        google.colab.kernel.accessAllowed ? 'block' : 'none';\n",
              "    })();\n",
              "  </script>\n",
              "</div>\n",
              "\n",
              "    </div>\n",
              "  </div>\n"
            ],
            "text/plain": [
              "                   label  num_of_instances  length_avg  weight_avg  \\\n",
              "0            montrealAPT                11   67.636364    0.707728   \n",
              "1  montrealComradeCircle                 1  144.000000    0.051214   \n",
              "2   montrealCryptConsole                 7   43.428571    0.593306   \n",
              "3       montrealCryptXXX              2419   47.447706    0.367505   \n",
              "4   montrealCryptoLocker              9315   30.674396    0.888878   \n",
              "\n",
              "     count_avg  looped_avg  neighbors_avg    income_avg  length_std  \\\n",
              "0  2047.000000  734.090909       2.545455  3.719873e+08   73.145434   \n",
              "1  1241.000000    0.000000       2.000000  2.033200e+08    0.000000   \n",
              "2   831.714286    0.000000       2.000000  4.546334e+07   68.747987   \n",
              "3   791.848284   61.022323       2.011988  1.355343e+08   58.187904   \n",
              "4   308.328824  100.981535       2.885346  1.840825e+09   50.731602   \n",
              "\n",
              "   weight_std  ...  count_min  looped_min  neighbors_min   income_min  \\\n",
              "0    0.600596  ...          1           0              1   57142857.0   \n",
              "1    0.000000  ...       1241           0              2  203320001.0   \n",
              "2    0.410909  ...          1           0              2   30000000.0   \n",
              "3    0.434143  ...          1           0              1   30000000.0   \n",
              "4    1.555608  ...          1           0              1   30000000.0   \n",
              "\n",
              "   length_max  weight_max  count_max  looped_max  neighbors_max    income_max  \n",
              "0         144    1.666667       8076        8073              6  1.088599e+09  \n",
              "1         144    0.051214       1241           0              2  2.033200e+08  \n",
              "2         144    1.000000       3191           0              2  5.030000e+07  \n",
              "3         144    3.458951       9262        8489             15  1.080000e+09  \n",
              "4         144   31.108593       6423        6418             79  4.450000e+11  \n",
              "\n",
              "[5 rows x 26 columns]"
            ]
          },
          "execution_count": 28,
          "metadata": {},
          "output_type": "execute_result"
        }
      ],
      "source": [
        "new_df=new_df.reset_index()\n",
        "new_df.head()"
      ]
    },
    {
      "cell_type": "markdown",
      "id": "2d1a7eab",
      "metadata": {
        "id": "2d1a7eab"
      },
      "source": [
        "# Data Preprocessing"
      ]
    },
    {
      "cell_type": "code",
      "execution_count": null,
      "id": "kCbIV6zfWjtz",
      "metadata": {
        "id": "kCbIV6zfWjtz"
      },
      "outputs": [],
      "source": [
        "black_rows=df[df[\"label\"]!=\"white\"]\n",
        "white_sample=df[df[\"label\"]==\"white\"].sample(n=158587,random_state=42)\n",
        "df=pd.concat([black_rows,white_sample]).sample(frac=1,random_state=50)\n",
        "df.head()"
      ]
    },
    {
      "cell_type": "markdown",
      "id": "b5e9b747",
      "metadata": {
        "id": "b5e9b747"
      },
      "source": [
        "## Label Encoding"
      ]
    },
    {
      "cell_type": "markdown",
      "id": "73a61f16",
      "metadata": {
        "id": "73a61f16"
      },
      "source": [
        "We do label encoding of:\n",
        "> * White label: 0\n",
        "> * Ransomware: 1"
      ]
    },
    {
      "cell_type": "code",
      "execution_count": null,
      "id": "9d778183",
      "metadata": {
        "id": "9d778183"
      },
      "outputs": [],
      "source": [
        "import pandas as pd\n",
        "from sklearn.preprocessing import LabelEncoder\n",
        "\n",
        "df['label'] = (df['label'] != 'white').astype(int)\n"
      ]
    },
    {
      "cell_type": "code",
      "execution_count": null,
      "id": "26r_mitVU5ds",
      "metadata": {
        "id": "26r_mitVU5ds"
      },
      "outputs": [],
      "source": [
        "df.head()"
      ]
    },
    {
      "cell_type": "markdown",
      "id": "4d34e671",
      "metadata": {
        "id": "4d34e671"
      },
      "source": [
        "## Train Test Split"
      ]
    },
    {
      "cell_type": "markdown",
      "id": "10d9bf84",
      "metadata": {
        "id": "10d9bf84"
      },
      "source": [
        " Training data: 66%\n",
        "> Test data: 33%"
      ]
    },
    {
      "cell_type": "code",
      "execution_count": null,
      "id": "d1be1712",
      "metadata": {
        "id": "d1be1712"
      },
      "outputs": [],
      "source": [
        "X = df.drop('label', axis=1)\n",
        "y = df['label']"
      ]
    },
    {
      "cell_type": "markdown",
      "id": "eS5W8WS_h9Lx",
      "metadata": {
        "id": "eS5W8WS_h9Lx"
      },
      "source": [
        "## Data balancing (ADASYN-TL technique) And Splitting into Training and Testing dataset"
      ]
    },
    {
      "cell_type": "code",
      "execution_count": null,
      "id": "991a0bf4",
      "metadata": {
        "id": "991a0bf4"
      },
      "outputs": [],
      "source": [
        "from sklearn.model_selection import train_test_split\n",
        "adasyn = ADASYN(random_state=42)\n",
        "X_balanced, y_balanced = adasyn.fit_resample(X, y)\n",
        "X_train, X_test, y_train, y_test = train_test_split(X_balanced, y_balanced, test_size=0.35, random_state=42, shuffle = True)"
      ]
    },
    {
      "cell_type": "code",
      "execution_count": null,
      "id": "2n082MZZXtBN",
      "metadata": {
        "id": "2n082MZZXtBN"
      },
      "outputs": [],
      "source": [
        "y_balanced.value_counts()"
      ]
    },
    {
      "cell_type": "markdown",
      "id": "77664f0a",
      "metadata": {
        "id": "77664f0a"
      },
      "source": [
        "## Standardization"
      ]
    },
    {
      "cell_type": "markdown",
      "id": "c5bb8dbb",
      "metadata": {
        "id": "c5bb8dbb"
      },
      "source": [
        "We perform **normalization** on the train data and then scale test data accordingly."
      ]
    },
    {
      "cell_type": "code",
      "execution_count": null,
      "id": "30b827f2",
      "metadata": {
        "id": "30b827f2"
      },
      "outputs": [],
      "source": [
        "from sklearn.preprocessing import StandardScaler\n",
        "\n",
        "scaler=StandardScaler()\n",
        "scaler.fit(X_train)\n",
        "\n",
        "X_train_scaled=scaler.transform(X_train)\n",
        "X_test_scaled=scaler.transform(X_test)\n",
        "\n",
        "X_train_scaled=pd.DataFrame(X_train_scaled,columns=X_train.columns)\n",
        "X_test_scaled=pd.DataFrame(X_test_scaled,columns=X_test.columns)"
      ]
    },
    {
      "cell_type": "markdown",
      "id": "7ed04a4e",
      "metadata": {
        "id": "7ed04a4e"
      },
      "source": [
        "# Training"
      ]
    },
    {
      "cell_type": "markdown",
      "id": "28b658e8",
      "metadata": {
        "id": "28b658e8"
      },
      "source": [
        "**This might take few minutes to run.**"
      ]
    },
    {
      "cell_type": "code",
      "execution_count": null,
      "id": "xNapx022RN51",
      "metadata": {
        "id": "xNapx022RN51"
      },
      "outputs": [],
      "source": [
        "# Define models\n",
        "models = {\n",
        "    'lr': LogisticRegression(solver='saga', max_iter=1000),\n",
        "    # 'svc': SVC(probability=True, random_state=42),\n",
        "    'nb': GaussianNB(),\n",
        "    # 'rf': RandomForestClassifier(random_state=42),\n",
        "    'xgb': XGBClassifier(random_state=42)\n",
        "}"
      ]
    },
    {
      "cell_type": "markdown",
      "id": "ehr_kmryiL_K",
      "metadata": {
        "id": "ehr_kmryiL_K"
      },
      "source": [
        "## Hyperparameter tuning"
      ]
    },
    {
      "cell_type": "code",
      "execution_count": null,
      "id": "kTb_wF87RQOa",
      "metadata": {
        "id": "kTb_wF87RQOa"
      },
      "outputs": [],
      "source": [
        "# Optimize XGBoost\n",
        "param_grid_xgb = {\n",
        "    'n_estimators': randint(50, 200),\n",
        "    'max_depth': randint(3, 10),\n",
        "    'learning_rate': uniform(0.01, 0.2),\n",
        "    'subsample': uniform(0.7, 0.3),\n",
        "    'colsample_bytree': uniform(0.7, 0.3)\n",
        "}"
      ]
    },
    {
      "cell_type": "code",
      "execution_count": null,
      "id": "doHgULiESEh3",
      "metadata": {
        "id": "doHgULiESEh3"
      },
      "outputs": [],
      "source": [
        "search_xgb = RandomizedSearchCV(XGBClassifier(random_state=42), param_distributions=param_grid_xgb,\n",
        "                                n_iter=5, cv=3)\n",
        "search_xgb.fit(X_train_scaled, y_train)\n",
        "models['xgb'] = search_xgb.best_estimator_"
      ]
    },
    {
      "cell_type": "code",
      "execution_count": null,
      "id": "Z6_Utqf1Rk4D",
      "metadata": {
        "colab": {
          "background_save": true
        },
        "id": "Z6_Utqf1Rk4D",
        "outputId": "c2830c64-3b58-4dee-c0e6-4caa188a78f4"
      },
      "outputs": [
        {
          "name": "stderr",
          "output_type": "stream",
          "text": [
            "/usr/local/lib/python3.10/dist-packages/sklearn/linear_model/_sag.py:350: ConvergenceWarning: The max_iter was reached which means the coef_ did not converge\n",
            "  warnings.warn(\n"
          ]
        },
        {
          "data": {
            "text/html": [
              "<style>#sk-container-id-1 {color: black;}#sk-container-id-1 pre{padding: 0;}#sk-container-id-1 div.sk-toggleable {background-color: white;}#sk-container-id-1 label.sk-toggleable__label {cursor: pointer;display: block;width: 100%;margin-bottom: 0;padding: 0.3em;box-sizing: border-box;text-align: center;}#sk-container-id-1 label.sk-toggleable__label-arrow:before {content: \"▸\";float: left;margin-right: 0.25em;color: #696969;}#sk-container-id-1 label.sk-toggleable__label-arrow:hover:before {color: black;}#sk-container-id-1 div.sk-estimator:hover label.sk-toggleable__label-arrow:before {color: black;}#sk-container-id-1 div.sk-toggleable__content {max-height: 0;max-width: 0;overflow: hidden;text-align: left;background-color: #f0f8ff;}#sk-container-id-1 div.sk-toggleable__content pre {margin: 0.2em;color: black;border-radius: 0.25em;background-color: #f0f8ff;}#sk-container-id-1 input.sk-toggleable__control:checked~div.sk-toggleable__content {max-height: 200px;max-width: 100%;overflow: auto;}#sk-container-id-1 input.sk-toggleable__control:checked~label.sk-toggleable__label-arrow:before {content: \"▾\";}#sk-container-id-1 div.sk-estimator input.sk-toggleable__control:checked~label.sk-toggleable__label {background-color: #d4ebff;}#sk-container-id-1 div.sk-label input.sk-toggleable__control:checked~label.sk-toggleable__label {background-color: #d4ebff;}#sk-container-id-1 input.sk-hidden--visually {border: 0;clip: rect(1px 1px 1px 1px);clip: rect(1px, 1px, 1px, 1px);height: 1px;margin: -1px;overflow: hidden;padding: 0;position: absolute;width: 1px;}#sk-container-id-1 div.sk-estimator {font-family: monospace;background-color: #f0f8ff;border: 1px dotted black;border-radius: 0.25em;box-sizing: border-box;margin-bottom: 0.5em;}#sk-container-id-1 div.sk-estimator:hover {background-color: #d4ebff;}#sk-container-id-1 div.sk-parallel-item::after {content: \"\";width: 100%;border-bottom: 1px solid gray;flex-grow: 1;}#sk-container-id-1 div.sk-label:hover label.sk-toggleable__label {background-color: #d4ebff;}#sk-container-id-1 div.sk-serial::before {content: \"\";position: absolute;border-left: 1px solid gray;box-sizing: border-box;top: 0;bottom: 0;left: 50%;z-index: 0;}#sk-container-id-1 div.sk-serial {display: flex;flex-direction: column;align-items: center;background-color: white;padding-right: 0.2em;padding-left: 0.2em;position: relative;}#sk-container-id-1 div.sk-item {position: relative;z-index: 1;}#sk-container-id-1 div.sk-parallel {display: flex;align-items: stretch;justify-content: center;background-color: white;position: relative;}#sk-container-id-1 div.sk-item::before, #sk-container-id-1 div.sk-parallel-item::before {content: \"\";position: absolute;border-left: 1px solid gray;box-sizing: border-box;top: 0;bottom: 0;left: 50%;z-index: -1;}#sk-container-id-1 div.sk-parallel-item {display: flex;flex-direction: column;z-index: 1;position: relative;background-color: white;}#sk-container-id-1 div.sk-parallel-item:first-child::after {align-self: flex-end;width: 50%;}#sk-container-id-1 div.sk-parallel-item:last-child::after {align-self: flex-start;width: 50%;}#sk-container-id-1 div.sk-parallel-item:only-child::after {width: 0;}#sk-container-id-1 div.sk-dashed-wrapped {border: 1px dashed gray;margin: 0 0.4em 0.5em 0.4em;box-sizing: border-box;padding-bottom: 0.4em;background-color: white;}#sk-container-id-1 div.sk-label label {font-family: monospace;font-weight: bold;display: inline-block;line-height: 1.2em;}#sk-container-id-1 div.sk-label-container {text-align: center;}#sk-container-id-1 div.sk-container {/* jupyter's `normalize.less` sets `[hidden] { display: none; }` but bootstrap.min.css set `[hidden] { display: none !important; }` so we also need the `!important` here to be able to override the default hidden behavior on the sphinx rendered scikit-learn.org. See: https://github.com/scikit-learn/scikit-learn/issues/21755 */display: inline-block !important;position: relative;}#sk-container-id-1 div.sk-text-repr-fallback {display: none;}</style><div id=\"sk-container-id-1\" class=\"sk-top-container\"><div class=\"sk-text-repr-fallback\"><pre>VotingClassifier(estimators=[(&#x27;lr&#x27;,\n",
              "                              LogisticRegression(max_iter=1000, solver=&#x27;saga&#x27;)),\n",
              "                             (&#x27;nb&#x27;, GaussianNB()),\n",
              "                             (&#x27;xgb&#x27;,\n",
              "                              XGBClassifier(base_score=None, booster=None,\n",
              "                                            callbacks=None,\n",
              "                                            colsample_bylevel=None,\n",
              "                                            colsample_bynode=None,\n",
              "                                            colsample_bytree=0.7493609897072195,\n",
              "                                            device=None,\n",
              "                                            early_stopping_rounds=None,\n",
              "                                            enable_categorical=False,\n",
              "                                            eval_metric=None,\n",
              "                                            feature_types=None,...\n",
              "                                            grow_policy=None,\n",
              "                                            importance_type=None,\n",
              "                                            interaction_constraints=None,\n",
              "                                            learning_rate=0.10989214720120252,\n",
              "                                            max_bin=None,\n",
              "                                            max_cat_threshold=None,\n",
              "                                            max_cat_to_onehot=None,\n",
              "                                            max_delta_step=None, max_depth=9,\n",
              "                                            max_leaves=None,\n",
              "                                            min_child_weight=None, missing=nan,\n",
              "                                            monotone_constraints=None,\n",
              "                                            multi_strategy=None,\n",
              "                                            n_estimators=91, n_jobs=None,\n",
              "                                            num_parallel_tree=None,\n",
              "                                            random_state=42, ...))])</pre><b>In a Jupyter environment, please rerun this cell to show the HTML representation or trust the notebook. <br />On GitHub, the HTML representation is unable to render, please try loading this page with nbviewer.org.</b></div><div class=\"sk-container\" hidden><div class=\"sk-item sk-dashed-wrapped\"><div class=\"sk-label-container\"><div class=\"sk-label sk-toggleable\"><input class=\"sk-toggleable__control sk-hidden--visually\" id=\"sk-estimator-id-1\" type=\"checkbox\" ><label for=\"sk-estimator-id-1\" class=\"sk-toggleable__label sk-toggleable__label-arrow\">VotingClassifier</label><div class=\"sk-toggleable__content\"><pre>VotingClassifier(estimators=[(&#x27;lr&#x27;,\n",
              "                              LogisticRegression(max_iter=1000, solver=&#x27;saga&#x27;)),\n",
              "                             (&#x27;nb&#x27;, GaussianNB()),\n",
              "                             (&#x27;xgb&#x27;,\n",
              "                              XGBClassifier(base_score=None, booster=None,\n",
              "                                            callbacks=None,\n",
              "                                            colsample_bylevel=None,\n",
              "                                            colsample_bynode=None,\n",
              "                                            colsample_bytree=0.7493609897072195,\n",
              "                                            device=None,\n",
              "                                            early_stopping_rounds=None,\n",
              "                                            enable_categorical=False,\n",
              "                                            eval_metric=None,\n",
              "                                            feature_types=None,...\n",
              "                                            grow_policy=None,\n",
              "                                            importance_type=None,\n",
              "                                            interaction_constraints=None,\n",
              "                                            learning_rate=0.10989214720120252,\n",
              "                                            max_bin=None,\n",
              "                                            max_cat_threshold=None,\n",
              "                                            max_cat_to_onehot=None,\n",
              "                                            max_delta_step=None, max_depth=9,\n",
              "                                            max_leaves=None,\n",
              "                                            min_child_weight=None, missing=nan,\n",
              "                                            monotone_constraints=None,\n",
              "                                            multi_strategy=None,\n",
              "                                            n_estimators=91, n_jobs=None,\n",
              "                                            num_parallel_tree=None,\n",
              "                                            random_state=42, ...))])</pre></div></div></div><div class=\"sk-parallel\"><div class=\"sk-parallel-item\"><div class=\"sk-item\"><div class=\"sk-label-container\"><div class=\"sk-label sk-toggleable\"><label>lr</label></div></div><div class=\"sk-serial\"><div class=\"sk-item\"><div class=\"sk-estimator sk-toggleable\"><input class=\"sk-toggleable__control sk-hidden--visually\" id=\"sk-estimator-id-2\" type=\"checkbox\" ><label for=\"sk-estimator-id-2\" class=\"sk-toggleable__label sk-toggleable__label-arrow\">LogisticRegression</label><div class=\"sk-toggleable__content\"><pre>LogisticRegression(max_iter=1000, solver=&#x27;saga&#x27;)</pre></div></div></div></div></div></div><div class=\"sk-parallel-item\"><div class=\"sk-item\"><div class=\"sk-label-container\"><div class=\"sk-label sk-toggleable\"><label>nb</label></div></div><div class=\"sk-serial\"><div class=\"sk-item\"><div class=\"sk-estimator sk-toggleable\"><input class=\"sk-toggleable__control sk-hidden--visually\" id=\"sk-estimator-id-3\" type=\"checkbox\" ><label for=\"sk-estimator-id-3\" class=\"sk-toggleable__label sk-toggleable__label-arrow\">GaussianNB</label><div class=\"sk-toggleable__content\"><pre>GaussianNB()</pre></div></div></div></div></div></div><div class=\"sk-parallel-item\"><div class=\"sk-item\"><div class=\"sk-label-container\"><div class=\"sk-label sk-toggleable\"><label>xgb</label></div></div><div class=\"sk-serial\"><div class=\"sk-item\"><div class=\"sk-estimator sk-toggleable\"><input class=\"sk-toggleable__control sk-hidden--visually\" id=\"sk-estimator-id-4\" type=\"checkbox\" ><label for=\"sk-estimator-id-4\" class=\"sk-toggleable__label sk-toggleable__label-arrow\">XGBClassifier</label><div class=\"sk-toggleable__content\"><pre>XGBClassifier(base_score=None, booster=None, callbacks=None,\n",
              "              colsample_bylevel=None, colsample_bynode=None,\n",
              "              colsample_bytree=0.7493609897072195, device=None,\n",
              "              early_stopping_rounds=None, enable_categorical=False,\n",
              "              eval_metric=None, feature_types=None, gamma=None,\n",
              "              grow_policy=None, importance_type=None,\n",
              "              interaction_constraints=None, learning_rate=0.10989214720120252,\n",
              "              max_bin=None, max_cat_threshold=None, max_cat_to_onehot=None,\n",
              "              max_delta_step=None, max_depth=9, max_leaves=None,\n",
              "              min_child_weight=None, missing=nan, monotone_constraints=None,\n",
              "              multi_strategy=None, n_estimators=91, n_jobs=None,\n",
              "              num_parallel_tree=None, random_state=42, ...)</pre></div></div></div></div></div></div></div></div></div></div>"
            ],
            "text/plain": [
              "VotingClassifier(estimators=[('lr',\n",
              "                              LogisticRegression(max_iter=1000, solver='saga')),\n",
              "                             ('nb', GaussianNB()),\n",
              "                             ('xgb',\n",
              "                              XGBClassifier(base_score=None, booster=None,\n",
              "                                            callbacks=None,\n",
              "                                            colsample_bylevel=None,\n",
              "                                            colsample_bynode=None,\n",
              "                                            colsample_bytree=0.7493609897072195,\n",
              "                                            device=None,\n",
              "                                            early_stopping_rounds=None,\n",
              "                                            enable_categorical=False,\n",
              "                                            eval_metric=None,\n",
              "                                            feature_types=None,...\n",
              "                                            grow_policy=None,\n",
              "                                            importance_type=None,\n",
              "                                            interaction_constraints=None,\n",
              "                                            learning_rate=0.10989214720120252,\n",
              "                                            max_bin=None,\n",
              "                                            max_cat_threshold=None,\n",
              "                                            max_cat_to_onehot=None,\n",
              "                                            max_delta_step=None, max_depth=9,\n",
              "                                            max_leaves=None,\n",
              "                                            min_child_weight=None, missing=nan,\n",
              "                                            monotone_constraints=None,\n",
              "                                            multi_strategy=None,\n",
              "                                            n_estimators=91, n_jobs=None,\n",
              "                                            num_parallel_tree=None,\n",
              "                                            random_state=42, ...))])"
            ]
          },
          "execution_count": 39,
          "metadata": {},
          "output_type": "execute_result"
        }
      ],
      "source": [
        "# Train voting classifier\n",
        "voting_clf = VotingClassifier(\n",
        "    estimators=[\n",
        "        ('lr', models['lr']),\n",
        "        ('nb', models['nb']),\n",
        "        ('xgb', models['xgb'])\n",
        "    ],\n",
        "    voting='hard'\n",
        ")\n",
        "voting_clf.fit(X_train_scaled, y_train)"
      ]
    },
    {
      "cell_type": "code",
      "execution_count": null,
      "id": "cadbe924",
      "metadata": {
        "colab": {
          "background_save": true
        },
        "id": "cadbe924"
      },
      "outputs": [],
      "source": [
        "# import numpy as np\n",
        "# from scipy.stats import uniform, randint\n",
        "# from sklearn.model_selection import RandomizedSearchCV\n",
        "# from xgboost import XGBClassifier\n",
        "\n",
        "# # Define the XGBoost classifier\n",
        "# model = XGBClassifier()\n",
        "\n",
        "# # Define the hyperparameter search space\n",
        "# param_space = {\n",
        "#     'n_estimators': randint(100, 1000),\n",
        "#     'max_depth': randint(1, 10),\n",
        "#     'learning_rate': uniform(0.01, 0.3),\n",
        "#     'subsample': uniform(0.6, 0.4),\n",
        "#     'colsample_bytree': uniform(0.6, 0.4)\n",
        "# }\n",
        "\n",
        "# # Perform random search\n",
        "# random_search = RandomizedSearchCV(model, param_distributions=param_space, n_iter=10, cv=5)\n",
        "# random_search.fit(X_train_scaled, y_train)\n",
        "\n",
        "# # Print the best parameters and score\n",
        "# print(\"Best parameters found: \", random_search.best_params_)\n",
        "# print(\"Best score: \", random_search.best_score_)"
      ]
    },
    {
      "cell_type": "markdown",
      "id": "60a1f69f",
      "metadata": {
        "id": "60a1f69f"
      },
      "source": [
        "# Evaluation"
      ]
    },
    {
      "cell_type": "markdown",
      "id": "ea291d26",
      "metadata": {
        "id": "ea291d26"
      },
      "source": [
        "We use the following metrics for evaluation:\n",
        "> * accuracy\n",
        "> * precision\n",
        "> * recall\n",
        "> * f1 score"
      ]
    },
    {
      "cell_type": "code",
      "execution_count": null,
      "id": "lh2Ta2GDRsOg",
      "metadata": {
        "id": "lh2Ta2GDRsOg"
      },
      "outputs": [],
      "source": [
        "# Evaluate voting classifier\n",
        "results = {}\n",
        "y_pred_voting = voting_clf.predict(X_test_scaled)\n",
        "results['voting'] = {\n",
        "    'accuracy': accuracy_score(y_test, y_pred_voting),\n",
        "    'precision': precision_score(y_test, y_pred_voting),\n",
        "    'recall': recall_score(y_test, y_pred_voting),\n",
        "    'f1': f1_score(y_test, y_pred_voting)\n",
        "}"
      ]
    },
    {
      "cell_type": "code",
      "execution_count": null,
      "id": "lATGZuq5RwTj",
      "metadata": {
        "id": "lATGZuq5RwTj"
      },
      "outputs": [],
      "source": [
        "# Print results\n",
        "for name, metrics in results.items():\n",
        "    print(f\"\\nResults for {name.upper()}:\")\n",
        "    for metric, value in metrics.items():\n",
        "        print(f\"{metric.capitalize()}: {value:.2f}\")"
      ]
    }
  ],
  "metadata": {
    "accelerator": "GPU",
    "colab": {
      "gpuType": "T4",
      "provenance": []
    },
    "kernelspec": {
      "display_name": "Python 3",
      "name": "python3"
    },
    "language_info": {
      "codemirror_mode": {
        "name": "ipython",
        "version": 3
      },
      "file_extension": ".py",
      "mimetype": "text/x-python",
      "name": "python",
      "nbconvert_exporter": "python",
      "pygments_lexer": "ipython3",
      "version": "3.10.12"
    },
    "papermill": {
      "default_parameters": {},
      "duration": 963.427223,
      "end_time": "2023-07-13T13:26:01.769183",
      "environment_variables": {},
      "exception": null,
      "input_path": "__notebook__.ipynb",
      "output_path": "__notebook__.ipynb",
      "parameters": {},
      "start_time": "2023-07-13T13:09:58.341960",
      "version": "2.4.0"
    }
  },
  "nbformat": 4,
  "nbformat_minor": 5
}
